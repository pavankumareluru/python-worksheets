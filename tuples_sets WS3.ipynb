{
 "cells": [
  {
   "cell_type": "markdown",
   "metadata": {},
   "source": [
    "# write a Python program to Assign K to Non Max-Min elements in Tuple."
   ]
  },
  {
   "cell_type": "markdown",
   "metadata": {},
   "source": [
    "Input :\n",
    "test_tuple = (3, 6, 3, 6, 34, 34)\n",
    "K = None\n",
    "Output : (3, None, 3, None, 34, 34)\n"
   ]
  },
  {
   "cell_type": "code",
   "execution_count": 116,
   "metadata": {},
   "outputs": [],
   "source": [
    "def assign(test_tuple,k):\n",
    "    \"\"\"complete the function to return a tuple with replacing all the non maximum non minimum elements with k\n",
    "    \n",
    "    \n",
    "    \n",
    "    \"\"\"\n",
    "    \n",
    "    #solution begins\n",
    "    # Assign K to Non Max-Min elements in Tuple \n",
    "# Using min() + max() + loop + tuple() \n",
    "    res = [] \n",
    "    for ele in test_tuple: \n",
    "        if ele not in [max(test_tuple), min(test_tuple)]: \n",
    "            res.append(k) \n",
    "        else: \n",
    "            res.append(ele) \n",
    "    return tuple(res) \n"
   ]
  },
  {
   "cell_type": "code",
   "execution_count": 117,
   "metadata": {},
   "outputs": [
    {
     "name": "stdout",
     "output_type": "stream",
     "text": [
      "changed tuple is : (None, None, None, 55, None, 2, None, None)\n"
     ]
    }
   ],
   "source": [
    "t = (20,23,45,55,23,2,54,32)\n",
    "k = None\n",
    "print(\"changed tuple is :\",assign(t,k))"
   ]
  },
  {
   "cell_type": "code",
   "execution_count": 118,
   "metadata": {},
   "outputs": [
    {
     "name": "stdout",
     "output_type": "stream",
     "text": [
      "all test cases are passed\n"
     ]
    }
   ],
   "source": [
    "assert assign((20,23,45,55,23,2,54,32),0)==(0,0,0,55,0,2,0,0)\n",
    "assert assign((4,5,6,7,8,89,6,8,2),None)==(None,None,None,None,None,89,None,None,2)\n",
    "assert assign((3, 6, 3, 6, 34, 34),None)==(3, None, 3, None, 34, 34)\n",
    "print(\"all test cases are passed\")"
   ]
  },
  {
   "cell_type": "markdown",
   "metadata": {},
   "source": [
    "# Write a Python program to sort a list of tuples alphabetically."
   ]
  },
  {
   "cell_type": "markdown",
   "metadata": {},
   "source": [
    "Input: [(\"Amana\", 28), (\"Zenat\", 30), (\"Abhishek\", 29), (\"Nikhil\", 21), (\"B\", \"C\")]\n",
    "Output: [('Amana', 28), ('Abhishek', 29), ('B', 'C'), ('Nikhil', 21), ('Zenat', 30)]\n"
   ]
  },
  {
   "cell_type": "code",
   "execution_count": 119,
   "metadata": {},
   "outputs": [],
   "source": [
    "# Python program to sort a \n",
    "# list of tuples alphabetically \n",
    "# Function to sort the list of \n",
    "# tuples \n",
    "  \n",
    "def SortTuple(tup): \n",
    "    \"\"\"complete the following to sort list of tuples alphabetically by their first element\n",
    "    \n",
    "    \n",
    "    \n",
    "    \"\"\"\n",
    "    #solution begins  \n",
    "    # Getting the length of list  \n",
    "    # of tuples \n",
    "    n = len(tup) \n",
    "      \n",
    "    for i in range(n): \n",
    "        for j in range(n-i-1): \n",
    "              \n",
    "            if tup[j][0] > tup[j + 1][0]: \n",
    "                tup[j], tup[j + 1] = tup[j + 1], tup[j] \n",
    "                  \n",
    "    return tup \n"
   ]
  },
  {
   "cell_type": "code",
   "execution_count": 120,
   "metadata": {},
   "outputs": [
    {
     "name": "stdout",
     "output_type": "stream",
     "text": [
      "[('Abhishek', 29), ('Amana', 28), ('B', 'C'), ('Nikhil', 21), ('Zenat', 30)]\n"
     ]
    }
   ],
   "source": [
    "tup =[(\"Amana\", 28), (\"Zenat\", 30), (\"Abhishek\", 29), \n",
    "        (\"Nikhil\", 21), (\"B\", \"C\")] \n",
    "          \n",
    "print(SortTuple(tup)) \n"
   ]
  },
  {
   "cell_type": "code",
   "execution_count": 121,
   "metadata": {},
   "outputs": [
    {
     "name": "stdout",
     "output_type": "stream",
     "text": [
      "all test cases are passed\n"
     ]
    }
   ],
   "source": [
    "assert SortTuple([(\"Amana\", 28), (\"Zenat\", 30), (\"Abhishek\", 29), \n",
    "        (\"Nikhil\", 21), (\"B\", \"C\")] )==[('Abhishek', 29), ('Amana', 28), ('B', 'C'), ('Nikhil', 21), ('Zenat', 30)]\n",
    "assert SortTuple([(\"praveen\", 28), (\"pavan\", 30), (\"Abhiman\", 29), \n",
    "        (\"usmani\", 21), (\"naveen\", \"C\")])==[('Abhiman', 29), ('naveen', 'C'), ('pavan', 30), ('praveen', 28), ('usmani', 21)]\n",
    "assert SortTuple([('akhil', 29), ('akkhil', 'C'), ('nani', 30), ('nareen', 28), ('naven', 21)])==[('akhil', 29), ('akkhil', 'C'), ('nani', 30), ('nareen', 28), ('naven', 21)]\n",
    "print(\"all test cases are passed\")"
   ]
  },
  {
   "cell_type": "markdown",
   "metadata": {},
   "source": [
    "# Write a python program to get unique elements in nested tuple."
   ]
  },
  {
   "cell_type": "markdown",
   "metadata": {},
   "source": [
    "Input: [(3, 4, 5), (4, 5, 7), (1, 4)] \n",
    "Output: [1, 3, 4, 5, 7]\n"
   ]
  },
  {
   "cell_type": "code",
   "execution_count": 122,
   "metadata": {},
   "outputs": [],
   "source": [
    "def unique(test_list):\n",
    "    \"\"\"complete the following function to return a list of unique elements fron list of tuples\n",
    "    \n",
    "    try to use sets\"\"\"\n",
    "    \n",
    "    \n",
    "    #solution begins\n",
    "    # Unique elements in nested tuple \n",
    "    # Using nested loop + set() \n",
    "    res = [] \n",
    "    temp = set() \n",
    "\n",
    "    for inner in test_list: \n",
    "        for ele in inner: \n",
    "            if not ele in temp: \n",
    "                temp.add(ele) \n",
    "                res.append(ele)  \n",
    "\n",
    "    return res"
   ]
  },
  {
   "cell_type": "code",
   "execution_count": 123,
   "metadata": {},
   "outputs": [
    {
     "name": "stdout",
     "output_type": "stream",
     "text": [
      "The original list :  [(1, 3, 2, 6, 5, 7, 9), (1, 3, 2, 9, 11, 12), (11, 12), (13, 1, 3, 2)]\n",
      "Unique elements in nested tuples are :  [1, 3, 2, 6, 5, 7, 9, 11, 12, 13]\n"
     ]
    }
   ],
   "source": [
    "t=[(1,3,2,6,5,7,9),(1,3,2,9,11,12),(11,12),(13,1,3,2)] \n",
    "print(\"The original list : \",(t)) \n",
    "l=unique(t)\n",
    "print(\"Unique elements in nested tuples are : \",l)"
   ]
  },
  {
   "cell_type": "code",
   "execution_count": 124,
   "metadata": {},
   "outputs": [
    {
     "name": "stdout",
     "output_type": "stream",
     "text": [
      "all test cases are passed\n"
     ]
    }
   ],
   "source": [
    "assert unique([(3, 4, 5),(4, 5, 7), (1, 4)])==[3,4,5,7,1]\n",
    "assert unique([(2,4,6,7,9,12),(13,2,4,7,6,9),(1,2,3),(2,3,4)])== [2, 4, 6, 7, 9, 12, 13, 1, 3]\n",
    "assert unique([(1,3,2,6,5,7,9),(1,3,2,9,11,12),(11,12),(13,1,3,2)])==[1, 3, 2, 6, 5, 7, 9, 11, 12, 13]\n",
    "print(\"all test cases are passed\")"
   ]
  },
  {
   "cell_type": "markdown",
   "metadata": {},
   "source": [
    "# Program to accept the strings which contains all vowels."
   ]
  },
  {
   "cell_type": "markdown",
   "metadata": {},
   "source": [
    "Input : ABeeIghiObhkUul\n",
    "Output : Accepted\n",
    "All vowels are present"
   ]
  },
  {
   "cell_type": "code",
   "execution_count": 125,
   "metadata": {},
   "outputs": [],
   "source": [
    "def check(string) :\n",
    "    \"\"\"complete the following to check whether a given string contains all vowels or not \n",
    "    return \"Accepted\" for yes \n",
    "    and \"Not Accepted\" for no \"\"\"\n",
    "    \n",
    "  \n",
    "    string = string.lower() \n",
    "  \n",
    "    # set() function convert \"aeiou\" \n",
    "    # string into set of characters \n",
    "    # i.e.vowels = {'a', 'e', 'i', 'o', 'u'} \n",
    "    vowels = set(\"aeiou\") \n",
    "  \n",
    "    # set() function convert empty  \n",
    "    # dictionary into empty set \n",
    "    s = set({}) \n",
    "  \n",
    "    # looping through each \n",
    "    # character of the string \n",
    "    for char in string : \n",
    "  \n",
    "        # Check for the character is present inside \n",
    "        # the vowels set or not. If present, then \n",
    "        # add into the set s by using add method \n",
    "        if char in vowels : \n",
    "            s.add(char) \n",
    "        else: \n",
    "            pass\n",
    "              \n",
    "    # check the length of set s equal to length  \n",
    "    # of vowels set or not. If equal, string is   \n",
    "    # accepted otherwise not \n",
    "    if len(s) == len(vowels) : \n",
    "        return (\"Accepted\") \n",
    "    else : \n",
    "        return (\"Not Accepted\") \n",
    "  \n"
   ]
  },
  {
   "cell_type": "code",
   "execution_count": 126,
   "metadata": {},
   "outputs": [
    {
     "name": "stdout",
     "output_type": "stream",
     "text": [
      "Accepted\n"
     ]
    }
   ],
   "source": [
    "string = \"SEEquoiaL\"\n",
    "print(check(string)) \n"
   ]
  },
  {
   "cell_type": "code",
   "execution_count": 127,
   "metadata": {},
   "outputs": [
    {
     "name": "stdout",
     "output_type": "stream",
     "text": [
      "all test cases are passed\n"
     ]
    }
   ],
   "source": [
    "assert check(\"python\")==\"Not Accepted\"\n",
    "assert check(\"pieoua\")==\"Accepted\"\n",
    "assert check(\"machineou\")==\"Accepted\"\n",
    "print(\"all test cases are passed\")"
   ]
  },
  {
   "cell_type": "markdown",
   "metadata": {},
   "source": [
    "# Python program to count number of vowels using sets in given string."
   ]
  },
  {
   "cell_type": "code",
   "execution_count": 128,
   "metadata": {},
   "outputs": [
    {
     "ename": "SyntaxError",
     "evalue": "invalid syntax (<ipython-input-128-ba8dbde95f6e>, line 1)",
     "output_type": "error",
     "traceback": [
      "\u001b[1;36m  File \u001b[1;32m\"<ipython-input-128-ba8dbde95f6e>\"\u001b[1;36m, line \u001b[1;32m1\u001b[0m\n\u001b[1;33m    Input : Hello World\u001b[0m\n\u001b[1;37m                      ^\u001b[0m\n\u001b[1;31mSyntaxError\u001b[0m\u001b[1;31m:\u001b[0m invalid syntax\n"
     ]
    }
   ],
   "source": [
    "Input : Hello World\n",
    "Output : No. of vowels :  3\n"
   ]
  },
  {
   "cell_type": "code",
   "execution_count": null,
   "metadata": {},
   "outputs": [],
   "source": [
    "def vowel_count(str): \n",
    "      \n",
    "    # Initializing count variable to 0 \n",
    "    count = 0\n",
    "      \n",
    "    # Creating a set of vowels \n",
    "    vowel = set(\"aeiouAEIOU\") \n",
    "      \n",
    "    # Loop to traverse the alphabet \n",
    "    # in the given string \n",
    "    for alphabet in str: \n",
    "      \n",
    "        # If alphabet is present \n",
    "        # in set vowel \n",
    "        if alphabet in vowel: \n",
    "            count = count + 1\n",
    "      \n",
    "    return count\n"
   ]
  },
  {
   "cell_type": "code",
   "execution_count": null,
   "metadata": {},
   "outputs": [],
   "source": [
    "str = \"MachineLearning\"\n",
    "print(\"number of vowels in given string is:\",vowel_count(str)) \n"
   ]
  },
  {
   "cell_type": "code",
   "execution_count": null,
   "metadata": {},
   "outputs": [],
   "source": [
    "assert vowel_count(\"python\")==1\n",
    "assert vowel_count(\"numpy pandas\")==3\n",
    "assert vowel_count(\"scikit learn\")==4\n",
    "print(\"all test cases are passed\")"
   ]
  },
  {
   "cell_type": "markdown",
   "metadata": {},
   "source": [
    "# Python program using set to check if string is pangram."
   ]
  },
  {
   "cell_type": "markdown",
   "metadata": {},
   "source": [
    "Input : The quick brown fox jumps over the lazy dog\n",
    "Output : The string is a pangram\n",
    "pangram is a string which contains all the alphabets"
   ]
  },
  {
   "cell_type": "code",
   "execution_count": null,
   "metadata": {},
   "outputs": [],
   "source": [
    "def pangram(input): \n",
    "    \"\"\"complete the function to return whether given string is pangram or not\n",
    "    return \"True\" for pangram\n",
    "    return \"False\" for not pangram\n",
    "    \"\"\"\n",
    "\n",
    "    #solution begins\n",
    "\n",
    "    # convert input string into lower case \n",
    "\n",
    "    input = input.lower() \n",
    "    # convert input string into Set() so that we will \n",
    "\n",
    "    # list of all unique characters present in sentence \n",
    "\n",
    "    input = set(input) \n",
    "\n",
    "    # separate out all alphabets \n",
    "\n",
    "    # ord(ch) returns ascii value of character \n",
    "\n",
    "    alpha = [ ch for ch in input if ord(ch) in range(ord('a'), ord('z')+1)] \n",
    "\n",
    "    if len(alpha) == 26: \n",
    "\n",
    "        return 'True'\n",
    "\n",
    "    else: \n",
    "\n",
    "        return 'False'\n"
   ]
  },
  {
   "cell_type": "code",
   "execution_count": null,
   "metadata": {},
   "outputs": [],
   "source": [
    "input = 'The quick brown fox jumps over the lazy dog'\n",
    "print(pangram(input))\n"
   ]
  },
  {
   "cell_type": "code",
   "execution_count": null,
   "metadata": {},
   "outputs": [],
   "source": [
    "assert pangram(\"The quick brown fox jumps over the lazy dog\")==\"True\"\n",
    "assert pangram(\"How vexingly quick daft zebras jump!\")==\"True\"\n",
    "assert pangram(\"function to check pangram\")=='False'\n",
    "print(\"all test cases are passed\")"
   ]
  },
  {
   "cell_type": "markdown",
   "metadata": {},
   "source": [
    "# Program to Check whether a given string is Heterogram or not."
   ]
  },
  {
   "cell_type": "markdown",
   "metadata": {},
   "source": [
    "Input : S = \"the big dwarf only jumps\"\n",
    "Output : Yes\n",
    "Each alphabet in the string S is occurred only once."
   ]
  },
  {
   "cell_type": "code",
   "execution_count": null,
   "metadata": {},
   "outputs": [],
   "source": [
    "def heterogram(input): \n",
    "    \"\"\"complete the function to return the given dtring is heterogram or not\n",
    "       return \"Yes\" if true\n",
    "       return \"No\" if false\n",
    "       \n",
    "       \"\"\"\n",
    "     #solution begins\n",
    "     # separate out list of alphabets using list comprehension \n",
    "     # ord function returns ascii value of character \n",
    "    alphabets = [ ch for ch in input if ( ord(ch) >= ord('a') and ord(ch) <= ord('z') )] \n",
    "  \n",
    "     # convert list of alphabets into set and  \n",
    "     # compare lengths \n",
    "    if len(set(alphabets))==len(alphabets): \n",
    "         return('Yes') \n",
    "    else: \n",
    "         return('No') \n"
   ]
  },
  {
   "cell_type": "code",
   "execution_count": null,
   "metadata": {},
   "outputs": [],
   "source": [
    "input = 'the big dwarf only jumps'\n",
    "print(heterogram(input),\",the given string is heterogram\") \n"
   ]
  },
  {
   "cell_type": "code",
   "execution_count": null,
   "metadata": {},
   "outputs": [],
   "source": [
    "assert heterogram(\"the big dwarf only jumps\")==\"Yes\"\n",
    "assert heterogram(\"subdermatoglyphic\")==\"Yes\"\n",
    "assert heterogram(\"python for machine learning\")==\"No\"\n",
    "print(\"all test cases are passed\")"
   ]
  },
  {
   "cell_type": "markdown",
   "metadata": {},
   "source": [
    "# program to Print all subsets of given size of a set."
   ]
  },
  {
   "cell_type": "markdown",
   "metadata": {},
   "source": [
    "Input  : arr[] = {1, 2, 3, 4}\n",
    "         size  = 2\n",
    "Output :  1 2\n",
    "          1 3\n",
    "          1 4\n",
    "          2 3\n",
    "          2 4\n",
    "          3 4\n"
   ]
  },
  {
   "cell_type": "code",
   "execution_count": null,
   "metadata": {},
   "outputs": [],
   "source": [
    "# Python program to print all \n",
    "# subset combination of n  \n",
    "# element in given set of r element . \n",
    "  \n",
    "# arr[] ---> Input Array \n",
    "# data[] ---> Temporary array to  \n",
    "#             store current combination \n",
    "# start & end ---> Staring and Ending  \n",
    "#                  indexes in arr[] \n",
    "# index ---> Current index in data[] \n",
    "# r ---> Size of a combination  \n",
    "#        to be printed  \n",
    "def combinationUtil(arr, n, r,  \n",
    "                    index, data, i): \n",
    "    # Current combination is  \n",
    "    # ready to be printed, \n",
    "    # print it \n",
    "    if(index == r): \n",
    "        for j in range(r): \n",
    "            print(data[j], end = \" \") \n",
    "        print(\" \") \n",
    "        return\n",
    "  \n",
    "    # When no more elements  \n",
    "    # are there to put in data[] \n",
    "    if(i >= n): \n",
    "        return\n",
    "  \n",
    "    # current is included,  \n",
    "    # put next at next \n",
    "    # location  \n",
    "    data[index] = arr[i] \n",
    "    combinationUtil(arr, n, r,  \n",
    "                    index + 1, data, i + 1) \n",
    "      \n",
    "    # current is excluded,  \n",
    "    # replace it with \n",
    "    # next (Note that i+1  \n",
    "    # is passed, but index  \n",
    "    # is not changed) \n",
    "    combinationUtil(arr, n, r, index,  \n",
    "                    data, i + 1) \n",
    "  \n"
   ]
  },
  {
   "cell_type": "code",
   "execution_count": null,
   "metadata": {},
   "outputs": [],
   "source": [
    "# The main function that \n",
    "# prints all combinations \n",
    "# of size r in arr[] of  \n",
    "# size n. This function  \n",
    "# mainly uses combinationUtil() \n",
    "def printcombination(arr, n, r): \n",
    "  \n",
    "    # A temporary array to \n",
    "    # store all combination \n",
    "    # one by one \n",
    "    data = list(range(r)) \n",
    "      \n",
    "    # Print all combination  \n",
    "    # using temporary  \n",
    "    # array 'data[]' \n",
    "    combinationUtil(arr, n, r,  \n",
    "                    0, data, 0) \n"
   ]
  },
  {
   "cell_type": "code",
   "execution_count": null,
   "metadata": {},
   "outputs": [],
   "source": [
    "# Driver Code \n",
    "arr = [10, 20, 30, 40, 50] \n",
    "  \n",
    "r = 3\n",
    "n = len(arr) \n",
    "printcombination(arr, n, r) \n"
   ]
  },
  {
   "cell_type": "markdown",
   "metadata": {},
   "source": [
    "We can easily do it by using itter tools"
   ]
  },
  {
   "cell_type": "code",
   "execution_count": null,
   "metadata": {},
   "outputs": [],
   "source": [
    "\n",
    "# Python Program to Print  \n",
    "# all subsets of given size of a set \n",
    "  \n",
    " \n",
    "  \n",
    "def findsubsets(s, n): \n",
    "    \"\"\"complete the function to return all the subsets of given size to given set\n",
    "    \n",
    "    \n",
    "    \"\"\"\n",
    "    \n",
    "    import itertools\n",
    "    return list(itertools.combinations(s, n)) \n",
    "  \n",
    " "
   ]
  },
  {
   "cell_type": "code",
   "execution_count": null,
   "metadata": {},
   "outputs": [],
   "source": [
    "#Driver Code \n",
    "s = {1, 2, 3,4,5} \n",
    "n = 4\n",
    "  \n",
    "print(findsubsets(s, n)) \n"
   ]
  },
  {
   "cell_type": "code",
   "execution_count": null,
   "metadata": {},
   "outputs": [],
   "source": [
    "assert findsubsets({1,2,3},2)==[(1, 2), (1, 3), (2, 3)]\n",
    "assert findsubsets({10,20,30,40,50},1) == [(40,), (10,), (50,), (20,), (30,)]\n",
    "assert findsubsets({1,2,3,4,5},4)==[(1, 2, 3, 4), (1, 2, 3, 5), (1, 2, 4, 5), (1, 3, 4, 5), (2, 3, 4, 5)]\n",
    "\n",
    "print(\"all test cases are passed\")"
   ]
  },
  {
   "cell_type": "markdown",
   "metadata": {},
   "source": [
    "# Determining the inconsistently weighted object\n"
   ]
  },
  {
   "cell_type": "markdown",
   "metadata": {},
   "source": [
    "Given N objects numbered from 1 to N out of which all are of the same weights except only one object which is not known beforehand. We are also given Q comparisons, in each of which an equal number of objects are placed on both sides of a balance scale, and we are told the heavier side.\n",
    "The task is to find the inconsistently weighted object or determine if the data is not sufficient enough.\n",
    "Examples:\n",
    "Input : N = 6\n",
    "Q = 3\n",
    "1 2 = 5 6\n",
    "1 2 3 > 4 5 6\n",
    "3 4 < 5 6\n",
    "Output : 4\n",
    "Explanation: Object 4 is lighter than all other objects.\n",
    "\n",
    "Input : N = 10\n",
    "Q = 4\n",
    "1 2 3 4 < 7 8 9 10\n",
    "1 = 9\n",
    "2 3 4 > 1 5 10\n",
    "6 = 2\n",
    "Output : Insufficient data"
   ]
  },
  {
   "cell_type": "code",
   "execution_count": null,
   "metadata": {},
   "outputs": [],
   "source": [
    "# Python program to determine the  \n",
    "# inconsistently weighted object  \n",
    "  \n",
    "# Function to get the difference of two lists  \n",
    "def subt(A, B):  \n",
    "    return list(set(A) - set(B))  \n",
    "  \n",
    "# Function to get the intersection of two lists  \n",
    "def intersection(A, B):  \n",
    "    return list(set(A).intersection(set(B)))  \n",
    "  \n",
    "# Function to get the intersection of two lists  \n",
    "def union(A, B):  \n",
    "    return list(set(A).union(set(B)))  \n",
    "  \n",
    "# Function to find the inconsistently weighted object  \n",
    "def inconsistentlyWeightedObject(N, Q, comparisons):  \n",
    "    # Objects which appear on the heavier side  \n",
    "    heavierObj = [i for i in range(1, N + 1)]  \n",
    "      \n",
    "    # Objects which appear on the lighter side  \n",
    "    lighterObj = [i for i in range(1, N + 1)]  \n",
    "    equalObj = [] # Objects which appear in '=' comparisons  \n",
    "      \n",
    "    # Objects which don't appear in any comparison  \n",
    "    objectNotCompared = [i for i in range(1, N + 1)]  \n",
    "      \n",
    "    for c in comparisons:  \n",
    "        objectNotCompared = subt(objectNotCompared, union(c[0], c[2]))  \n",
    "          \n",
    "        if c[1] == '=':  \n",
    "            equalObj = union(equalObj, union(c[0], c[2]))  \n",
    "        elif c[1] == '<':  \n",
    "            # Removing those objects which do  \n",
    "            # not appear on the lighter side  \n",
    "            lighterObj = intersection(lighterObj, c[0])  \n",
    "              \n",
    "            # Removing thoe objects which do  \n",
    "            # not appear on the heavier side  \n",
    "            heavierObj = intersection(heavierObj, c[2])  \n",
    "        else:  \n",
    "            # Removing those objects which do  \n",
    "            # not appear on the lighter side  \n",
    "            lighterObj = intersection(lighterObj, c[2])  \n",
    "              \n",
    "            # Removing those objects which do  \n",
    "            # not appear on the heavier side  \n",
    "            heavierObj = intersection(heavierObj, c[0])  \n",
    "      \n",
    "    L_iwo = subt(union(heavierObj, lighterObj), equalObj) # Potential candidates  \n",
    "  \n",
    "    if len(L_iwo) == 1:  \n",
    "        return L_iwo[0]  \n",
    "    elif not len(L_iwo):  \n",
    "        if len(objectNotCompared) == 1:  \n",
    "            return objectNotCompared[0]  \n",
    "        else:  \n",
    "            return 'Insufficient data'\n",
    "    else:  \n",
    "        return 'Insufficient data'\n",
    "  \n"
   ]
  },
  {
   "cell_type": "code",
   "execution_count": 129,
   "metadata": {},
   "outputs": [
    {
     "name": "stdout",
     "output_type": "stream",
     "text": [
      "4\n"
     ]
    }
   ],
   "source": [
    "# Driver code  \n",
    "N = 6\n",
    "Q = 3\n",
    "comparisons = [ [[1, 2], '=', [5, 6]], [[1, 2, 3], '>', [4, 5, 6]],  \n",
    "                                        [[3, 4], '<', [5, 6]] ]  \n",
    "print(inconsistentlyWeightedObject(N, Q, comparisons))  \n",
    "\n"
   ]
  },
  {
   "cell_type": "code",
   "execution_count": 130,
   "metadata": {},
   "outputs": [
    {
     "name": "stdout",
     "output_type": "stream",
     "text": [
      "test case passed\n"
     ]
    }
   ],
   "source": [
    "assert inconsistentlyWeightedObject(6, 3, [ [[1, 2], '=', [5, 6]], [[1, 2, 3], '>', [4, 5, 6]],  \n",
    "                                        [[3, 4], '<', [5, 6]] ] )==4\n",
    "print(\"test case passed\")"
   ]
  },
  {
   "cell_type": "code",
   "execution_count": null,
   "metadata": {},
   "outputs": [],
   "source": []
  },
  {
   "cell_type": "code",
   "execution_count": null,
   "metadata": {},
   "outputs": [],
   "source": []
  },
  {
   "cell_type": "code",
   "execution_count": null,
   "metadata": {},
   "outputs": [],
   "source": []
  }
 ],
 "metadata": {
  "kernelspec": {
   "display_name": "Python 3",
   "language": "python",
   "name": "python3"
  },
  "language_info": {
   "codemirror_mode": {
    "name": "ipython",
    "version": 3
   },
   "file_extension": ".py",
   "mimetype": "text/x-python",
   "name": "python",
   "nbconvert_exporter": "python",
   "pygments_lexer": "ipython3",
   "version": "3.7.5"
  }
 },
 "nbformat": 4,
 "nbformat_minor": 4
}
