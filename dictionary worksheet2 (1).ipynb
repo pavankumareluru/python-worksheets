{
 "cells": [
  {
   "cell_type": "markdown",
   "metadata": {},
   "source": [
    "# Write a Python program to iterate over dictionaries using for loops to print all items of dictionary."
   ]
  },
  {
   "cell_type": "markdown",
   "metadata": {},
   "source": [
    "print items as \n",
    "key->value\n",
    "key->value"
   ]
  },
  {
   "cell_type": "code",
   "execution_count": 114,
   "metadata": {},
   "outputs": [
    {
     "name": "stdout",
     "output_type": "stream",
     "text": [
      "x -> 10\n",
      "y -> 20\n",
      "z -> 30\n"
     ]
    }
   ],
   "source": [
    "def dict_print(d):\n",
    "     for dict_key, dict_value in d.items():\n",
    "            print(dict_key,'->',dict_value)\n",
    "d = {'x': 10, 'y': 20, 'z': 30}\n",
    "dict_print(d)\n"
   ]
  },
  {
   "cell_type": "code",
   "execution_count": null,
   "metadata": {},
   "outputs": [],
   "source": []
  },
  {
   "cell_type": "markdown",
   "metadata": {},
   "source": [
    "# Write a Python script to generate and print a dictionary that contains a number (between 1 and n) in the form (x, x*x)."
   ]
  },
  {
   "cell_type": "markdown",
   "metadata": {},
   "source": [
    "Sample Dictionary ( n = 5) :\n",
    "Expected Output : {1: 1, 2: 4, 3: 9, 4: 16, 5: 25}\n"
   ]
  },
  {
   "cell_type": "code",
   "execution_count": 115,
   "metadata": {},
   "outputs": [],
   "source": [
    "def sq_dict(n):\n",
    "    \"\"\"complete the function to return a dictionary with values as square of keys\n",
    "    \n",
    "    \n",
    "    \"\"\"\n",
    "    #solution begins\n",
    "    d = dict()\n",
    "    for x in range(1,n+1):\n",
    "        d[x]=x*x\n",
    "    return d\n",
    "#end of solution\n"
   ]
  },
  {
   "cell_type": "code",
   "execution_count": 116,
   "metadata": {},
   "outputs": [
    {
     "name": "stdout",
     "output_type": "stream",
     "text": [
      "Input a number 6\n",
      "{1: 1, 2: 4, 3: 9, 4: 16, 5: 25, 6: 36}\n"
     ]
    }
   ],
   "source": [
    "n=int(input(\"Input a number \"))\n",
    "d=sq_dict(n)\n",
    "print(d)\n"
   ]
  },
  {
   "cell_type": "code",
   "execution_count": 135,
   "metadata": {},
   "outputs": [
    {
     "ename": "AssertionError",
     "evalue": "",
     "output_type": "error",
     "traceback": [
      "\u001b[1;31m---------------------------------------------------------------------------\u001b[0m",
      "\u001b[1;31mAssertionError\u001b[0m                            Traceback (most recent call last)",
      "\u001b[1;32m<ipython-input-135-2964de36005a>\u001b[0m in \u001b[0;36m<module>\u001b[1;34m\u001b[0m\n\u001b[0;32m      1\u001b[0m \u001b[1;32massert\u001b[0m \u001b[0msq_dict\u001b[0m\u001b[1;33m(\u001b[0m\u001b[1;36m6\u001b[0m\u001b[1;33m)\u001b[0m\u001b[1;33m==\u001b[0m\u001b[1;33m{\u001b[0m\u001b[1;36m1\u001b[0m\u001b[1;33m:\u001b[0m \u001b[1;36m1\u001b[0m\u001b[1;33m,\u001b[0m \u001b[1;36m2\u001b[0m\u001b[1;33m:\u001b[0m \u001b[1;36m4\u001b[0m\u001b[1;33m,\u001b[0m \u001b[1;36m3\u001b[0m\u001b[1;33m:\u001b[0m \u001b[1;36m9\u001b[0m\u001b[1;33m,\u001b[0m \u001b[1;36m4\u001b[0m\u001b[1;33m:\u001b[0m \u001b[1;36m16\u001b[0m\u001b[1;33m,\u001b[0m \u001b[1;36m5\u001b[0m\u001b[1;33m:\u001b[0m \u001b[1;36m25\u001b[0m\u001b[1;33m,\u001b[0m \u001b[1;36m6\u001b[0m\u001b[1;33m:\u001b[0m \u001b[1;36m36\u001b[0m\u001b[1;33m}\u001b[0m\u001b[1;33m\u001b[0m\u001b[1;33m\u001b[0m\u001b[0m\n\u001b[0;32m      2\u001b[0m \u001b[1;32massert\u001b[0m \u001b[0msq_dict\u001b[0m\u001b[1;33m(\u001b[0m\u001b[1;36m4\u001b[0m\u001b[1;33m)\u001b[0m\u001b[1;33m==\u001b[0m\u001b[1;33m{\u001b[0m\u001b[1;36m1\u001b[0m\u001b[1;33m:\u001b[0m \u001b[1;36m1\u001b[0m\u001b[1;33m,\u001b[0m \u001b[1;36m2\u001b[0m\u001b[1;33m:\u001b[0m \u001b[1;36m4\u001b[0m\u001b[1;33m,\u001b[0m \u001b[1;36m3\u001b[0m\u001b[1;33m:\u001b[0m \u001b[1;36m9\u001b[0m\u001b[1;33m,\u001b[0m \u001b[1;36m4\u001b[0m\u001b[1;33m:\u001b[0m \u001b[1;36m16\u001b[0m\u001b[1;33m}\u001b[0m\u001b[1;33m\u001b[0m\u001b[1;33m\u001b[0m\u001b[0m\n\u001b[1;32m----> 3\u001b[1;33m \u001b[1;32massert\u001b[0m \u001b[0msq_dict\u001b[0m\u001b[1;33m(\u001b[0m\u001b[1;36m11\u001b[0m\u001b[1;33m)\u001b[0m\u001b[1;33m==\u001b[0m\u001b[1;33m{\u001b[0m\u001b[1;36m1\u001b[0m\u001b[1;33m:\u001b[0m \u001b[1;36m1\u001b[0m\u001b[1;33m,\u001b[0m \u001b[1;36m2\u001b[0m\u001b[1;33m:\u001b[0m \u001b[1;36m4\u001b[0m\u001b[1;33m,\u001b[0m \u001b[1;36m3\u001b[0m\u001b[1;33m:\u001b[0m \u001b[1;36m9\u001b[0m\u001b[1;33m,\u001b[0m \u001b[1;36m4\u001b[0m\u001b[1;33m:\u001b[0m \u001b[1;36m16\u001b[0m\u001b[1;33m,\u001b[0m \u001b[1;36m5\u001b[0m\u001b[1;33m:\u001b[0m \u001b[1;36m25\u001b[0m\u001b[1;33m,\u001b[0m \u001b[1;36m6\u001b[0m\u001b[1;33m:\u001b[0m \u001b[1;36m36\u001b[0m\u001b[1;33m,\u001b[0m \u001b[1;36m7\u001b[0m\u001b[1;33m:\u001b[0m \u001b[1;36m49\u001b[0m\u001b[1;33m,\u001b[0m \u001b[1;36m8\u001b[0m\u001b[1;33m:\u001b[0m \u001b[1;36m64\u001b[0m\u001b[1;33m,\u001b[0m \u001b[1;36m9\u001b[0m\u001b[1;33m:\u001b[0m \u001b[1;36m81\u001b[0m\u001b[1;33m,\u001b[0m \u001b[1;36m10\u001b[0m\u001b[1;33m:\u001b[0m \u001b[1;36m100\u001b[0m\u001b[1;33m,\u001b[0m \u001b[1;36m1\u001b[0m\u001b[1;33m:\u001b[0m \u001b[1;36m121\u001b[0m\u001b[1;33m}\u001b[0m\u001b[1;33m\u001b[0m\u001b[1;33m\u001b[0m\u001b[0m\n\u001b[0m\u001b[0;32m      4\u001b[0m \u001b[0mprint\u001b[0m\u001b[1;33m(\u001b[0m\u001b[1;34m\"all test cases passed\"\u001b[0m\u001b[1;33m)\u001b[0m\u001b[1;33m\u001b[0m\u001b[1;33m\u001b[0m\u001b[0m\n",
      "\u001b[1;31mAssertionError\u001b[0m: "
     ]
    }
   ],
   "source": [
    "assert sq_dict(6)=={1: 1, 2: 4, 3: 9, 4: 16, 5: 25, 6: 36}\n",
    "assert sq_dict(4)=={1: 1, 2: 4, 3: 9, 4: 16}\n",
    "assert sq_dict(11)=={1: 1, 2: 4, 3: 9, 4: 16, 5: 25, 6: 36, 7: 49, 8: 64, 9: 81, 10: 100, 11: 121}\n",
    "print(\"all test cases passed\")"
   ]
  },
  {
   "cell_type": "markdown",
   "metadata": {},
   "source": [
    "\n",
    "# Write a Python script to concatenate following dictionaries to create a new one."
   ]
  },
  {
   "cell_type": "markdown",
   "metadata": {},
   "source": [
    "dic1={1:10, 2:20}\n",
    "dic2={3:30, 4:40}\n",
    "dic3={5:50,6:60}\n",
    "Expected Result : {1: 10, 2: 20, 3: 30, 4: 40, 5: 50, 6: 60}"
   ]
  },
  {
   "cell_type": "code",
   "execution_count": 118,
   "metadata": {},
   "outputs": [],
   "source": [
    "def conc_dic(dic1,dic2,dic3):\n",
    "    \"\"\"complete the following function to concatenate threee dictionaries and return the concatenated dictionary\n",
    "    \n",
    "    \n",
    "    \"\"\"\n",
    "    #solution begins\n",
    "    new_dict={}\n",
    "    for d in (dic1, dic2, dic3): new_dict.update(d)\n",
    "    return(new_dict)\n",
    "#end of solution\n"
   ]
  },
  {
   "cell_type": "code",
   "execution_count": 119,
   "metadata": {},
   "outputs": [
    {
     "name": "stdout",
     "output_type": "stream",
     "text": [
      "{1: 10, 2: 20, 3: 30, 4: 40, 5: 50, 6: 60}\n"
     ]
    }
   ],
   "source": [
    "\n",
    "dic1={1:10, 2:20}\n",
    "dic2={3:30, 4:40}\n",
    "dic3={5:50, 6:60}\n",
    "dic=conc_dic(dic1,dic2,dic3)\n",
    "print(dic)"
   ]
  },
  {
   "cell_type": "code",
   "execution_count": 120,
   "metadata": {},
   "outputs": [],
   "source": [
    "assert conc_dic({1:10, 2:20},{3:30, 4:40},{5:50,6:60})=={1: 10, 2: 20, 3: 30, 4: 40, 5: 50, 6: 60}\n",
    "assert conc_dic({22:2, 33:3},{44:4, 55:5},{66:6,88:8, 99:9})=={22:2, 33:3,44:4, 55:5,66:6,88:8, 99:9}\n",
    "print(\"all test cases passed\")"
   ]
  },
  {
   "cell_type": "markdown",
   "metadata": {},
   "source": [
    "# Write a Python script to sort a dictionary by value."
   ]
  },
  {
   "cell_type": "markdown",
   "metadata": {},
   "source": [
    "input : {\"two\":\"2\", \"one\":\"1\", \"five\":\"5\", \"four\":\"4\"}\n",
    "expected output: {'one': '1', 'two': '2', 'four': '4', 'five': '5'}"
   ]
  },
  {
   "cell_type": "code",
   "execution_count": 121,
   "metadata": {},
   "outputs": [],
   "source": [
    "def sort_dic(myDictionary):\n",
    "    \"\"\"complete the dictionary to sort the dictionary by values of the dict\n",
    "    \n",
    "    \n",
    "    \"\"\"\n",
    "    #solution begins\n",
    "    new_dic =dict()\n",
    "    sortedList=sorted(myDictionary.values())\n",
    "    for sortedKey in sortedList:\n",
    "        for key,value in myDictionary.items():\n",
    "            if value==sortedKey:\n",
    "                new_dic[key]=value\n",
    "    return new_dic\n",
    "#solution ends\n"
   ]
  },
  {
   "cell_type": "code",
   "execution_count": 122,
   "metadata": {},
   "outputs": [
    {
     "name": "stdout",
     "output_type": "stream",
     "text": [
      "{'one': '1', 'two': '2', 'four': '4', 'five': '5'}\n"
     ]
    }
   ],
   "source": [
    "myDictionary={\"two\":\"2\", \"one\":\"1\", \"five\":\"5\", \"four\":\"4\"}\n",
    "d=sort_dic(myDictionary)\n",
    "print(d)"
   ]
  },
  {
   "cell_type": "code",
   "execution_count": 123,
   "metadata": {},
   "outputs": [],
   "source": [
    "assert sort_dic({\"two\":\"2\", \"one\":\"1\", \"five\":\"5\", \"four\":\"4\"})=={'one': '1', 'two': '2', 'four': '4', 'five': '5'}\n",
    "assert sort_dic({\"six\":\"6\", \"one\":\"1\", \"seven\":\"7\", \"three\":\"3\",\"eight\":\"8\"})=={'one': '1', 'three': '3', 'six': '6', 'seven': '7', 'eight': '8'}\n",
    "print(\"all test cases passed\")"
   ]
  },
  {
   "cell_type": "markdown",
   "metadata": {},
   "source": [
    "# Write a python to script to sort a dictionary by key.\n"
   ]
  },
  {
   "cell_type": "markdown",
   "metadata": {},
   "source": [
    "input:{10: 'b', 3:'a', 9:'f', 5:'c', 1:'d'}\n",
    "expected output:{1:'d', 3: 'a', 5: 'c', 9:'f', 10: 'b'}"
   ]
  },
  {
   "cell_type": "code",
   "execution_count": 124,
   "metadata": {},
   "outputs": [],
   "source": [
    "def order_dic(dic):\n",
    "    \"\"\"complete the function to return a dictionary ordered by the keys of dict\"\"\"\n",
    "    \n",
    "\n",
    "#solution begins\n",
    "    ordered_dic={}\n",
    "    key_ls=sorted(dic.keys())\n",
    "    for key in key_ls:\n",
    "        ordered_dic[key]=dic[key]\n",
    "    return ordered_dic\n",
    "#end of solution"
   ]
  },
  {
   "cell_type": "code",
   "execution_count": 125,
   "metadata": {},
   "outputs": [
    {
     "name": "stdout",
     "output_type": "stream",
     "text": [
      "{3: 'a', 5: 'c', 10: 'b'}\n"
     ]
    }
   ],
   "source": [
    "dic={10: 'b', 3:'a', 5:'c'}\n",
    "d=order_dic(dic)\n",
    "print (d)\n"
   ]
  },
  {
   "cell_type": "code",
   "execution_count": 126,
   "metadata": {},
   "outputs": [],
   "source": [
    "assert order_dic({10: 'b', 3:'a', 5:'c'})=={3: 'a', 5: 'c', 10: 'b'}\n",
    "assert order_dic({10: 'b', 3:'a', 9:'f', 5:'c', 1:'d'})=={1:'d', 3: 'a', 5: 'c', 9:'f', 10: 'b'}\n",
    "print(\"all test cases passed\")"
   ]
  },
  {
   "cell_type": "markdown",
   "metadata": {},
   "source": [
    "# Write a Python program to sum all the values in a dictionary."
   ]
  },
  {
   "cell_type": "markdown",
   "metadata": {},
   "source": [
    "input:{'data1':100,'data2':-54,'data3':247}\n",
    "expected output: 293"
   ]
  },
  {
   "cell_type": "code",
   "execution_count": 127,
   "metadata": {},
   "outputs": [],
   "source": [
    "def sum_values(d):\n",
    "    #complete the function\n",
    "    #return the sum of keys\n",
    "\n",
    "\n",
    "#begin solution\n",
    "    sum=0\n",
    "    for key,values in d.items():\n",
    "        sum=sum+d[key]\n",
    "    return sum\n",
    "#end solution\n"
   ]
  },
  {
   "cell_type": "code",
   "execution_count": 128,
   "metadata": {},
   "outputs": [
    {
     "name": "stdout",
     "output_type": "stream",
     "text": [
      "293\n"
     ]
    }
   ],
   "source": [
    "my_dict = {'data1':100,'data2':-54,'data3':247}\n",
    "print(sum_values(my_dict))\n"
   ]
  },
  {
   "cell_type": "code",
   "execution_count": 129,
   "metadata": {},
   "outputs": [],
   "source": [
    "assert sum_values({'data1':100,'data2':-54,'data3':247})==293\n",
    "assert sum_values({'data1':256,'data2':-56,'data3':235,'data4':-30,'data5':68})==473\n",
    "print(\"all test cases passed\")"
   ]
  },
  {
   "cell_type": "markdown",
   "metadata": {},
   "source": [
    "# Write a Python program to multiply all the items in a dictionary."
   ]
  },
  {
   "cell_type": "markdown",
   "metadata": {},
   "source": [
    "input: {'data1':11,'data2':35,'data3':22}\n",
    "output: 8470"
   ]
  },
  {
   "cell_type": "code",
   "execution_count": 130,
   "metadata": {},
   "outputs": [],
   "source": [
    "def mul_values(d):\n",
    "    #complete the function\n",
    "    #return the sum of keys\n",
    "\n",
    "\n",
    "#begin solution\n",
    "    result=1\n",
    "    for key,values in d.items():\n",
    "        result=result*d[key]\n",
    "    return result\n",
    "#end solution\n"
   ]
  },
  {
   "cell_type": "code",
   "execution_count": 131,
   "metadata": {},
   "outputs": [
    {
     "name": "stdout",
     "output_type": "stream",
     "text": [
      "8470\n"
     ]
    }
   ],
   "source": [
    "print(mul_values({'data1':11,'data2':35,'data3':22}))"
   ]
  },
  {
   "cell_type": "code",
   "execution_count": 132,
   "metadata": {},
   "outputs": [],
   "source": [
    "assert mul_values({'data1':11,'data2':35,'data3':22})==8470\n",
    "assert mul_values({'data1':9,'data2':29,'data3':36,'data4':6})==56376\n",
    "assert mul_values({'data1':11,'data2':5,'data3':12,'data4':7,'data5':8})==36960\n",
    "print(\"all test cases passed\")"
   ]
  },
  {
   "cell_type": "markdown",
   "metadata": {},
   "source": [
    "# Write a Python program to remove items with duplicate values from Dictionary. "
   ]
  },
  {
   "cell_type": "code",
   "execution_count": 133,
   "metadata": {},
   "outputs": [
    {
     "ename": "SyntaxError",
     "evalue": "invalid syntax (<ipython-input-133-1f979c3bdc09>, line 2)",
     "output_type": "error",
     "traceback": [
      "\u001b[1;36m  File \u001b[1;32m\"<ipython-input-133-1f979c3bdc09>\"\u001b[1;36m, line \u001b[1;32m2\u001b[0m\n\u001b[1;33m    output: {x':3,'t':5,'y':4,'z':6}\u001b[0m\n\u001b[1;37m                  ^\u001b[0m\n\u001b[1;31mSyntaxError\u001b[0m\u001b[1;31m:\u001b[0m invalid syntax\n"
     ]
    }
   ],
   "source": [
    "input: {'x':3,'t':5,'y':4,'z':6,'p':5,'q':4}\n",
    "output: {x':3,'t':5,'y':4,'z':6}"
   ]
  },
  {
   "cell_type": "code",
   "execution_count": null,
   "metadata": {},
   "outputs": [],
   "source": [
    "def rem_dup(student_data):\n",
    "    \"\"\"complete the function to remove duplicate values from the function\n",
    "    \n",
    "    \"\"\"\n",
    "    #solution begins\n",
    "    result = {}\n",
    "    for key,value in student_data.items():\n",
    "        if value not in result.values():\n",
    "            result[key] = value\n",
    "    return(result)\n",
    "#end of solution \n"
   ]
  },
  {
   "cell_type": "code",
   "execution_count": null,
   "metadata": {},
   "outputs": [],
   "source": [
    "student_data = {'id1': \n",
    "   {'name': ['Sara'], \n",
    "    'class': ['V'], \n",
    "    'subject_integration': ['english, math, science']\n",
    "   },\n",
    " 'id2': \n",
    "  {'name': ['David'], \n",
    "    'class': ['V'], \n",
    "    'subject_integration': ['english, math, science']\n",
    "   },\n",
    " 'id3': \n",
    "    {'name': ['Sara'], \n",
    "    'class': ['V'], \n",
    "    'subject_integration': ['english, math, science']\n",
    "   },\n",
    " 'id4': \n",
    "   {'name': ['Surya'], \n",
    "    'class': ['V'], \n",
    "    'subject_integration': ['english, math, science']\n",
    "   }\n",
    "}\n",
    "print(rem_dup(student_data))"
   ]
  },
  {
   "cell_type": "code",
   "execution_count": null,
   "metadata": {
    "scrolled": true
   },
   "outputs": [],
   "source": [
    "assert rem_dup({'x':3,'t':5,'y':4,'z':6,'p':5,'q':4})=={'x':3,'t':5,'y':4,'z':6}\n",
    "assert rem_dup({'a':6,'b':26,'y':36,'z':6,'c':5,'d':26})=={'a': 6, 'b': 26, 'y': 36, 'c': 5}\n",
    "print(\"all test cases passed\")"
   ]
  },
  {
   "cell_type": "markdown",
   "metadata": {},
   "source": [
    "# Write a Python program to print common key value pairs in two dictionaries."
   ]
  },
  {
   "cell_type": "markdown",
   "metadata": {},
   "source": [
    "input: x = {'key1': 1, 'key2': 3, 'key3': 2}\n",
    "       y = {'key1': 1, 'key2': 2}\n",
    "output: (key1,1)"
   ]
  },
  {
   "cell_type": "code",
   "execution_count": null,
   "metadata": {},
   "outputs": [],
   "source": [
    "def com_pair(x,y):\n",
    "    \"\"\"complete the function to return the list of tuples of common key valuie pairs in two dictionaries\n",
    "    \n",
    "    \"\"\"\n",
    "    l=[]\n",
    "    for (key, value) in set(x.items()) & set(y.items()):\n",
    "        l.append((key,value))\n",
    "    return l\n"
   ]
  },
  {
   "cell_type": "code",
   "execution_count": null,
   "metadata": {},
   "outputs": [],
   "source": [
    "x = {'key1': 1, 'key2': 6, 'key3': 2}\n",
    "y = {'key1': 1, 'key2': 6}\n",
    "l=com_pair(x,y)\n",
    "print(l,\"is/are present in both x and y \")\n",
    "\n"
   ]
  },
  {
   "cell_type": "code",
   "execution_count": null,
   "metadata": {},
   "outputs": [],
   "source": [
    "assert com_pair({'key1': 1, 'key2': 6, 'key3': 2},{'key1': 1, 'key2': 6})==[('key1',1), ('key2', 6)]\n",
    "assert com_pair({'data1': \"python\", 'data2': \"machine\", 'data3': \"learning\"},{'data1': \"python\", 'data3': \"learning\"})==[('data3', 'learning'), ('data1', 'python')]\n",
    "print(\"all test cases passed\")"
   ]
  },
  {
   "cell_type": "code",
   "execution_count": null,
   "metadata": {},
   "outputs": [],
   "source": []
  },
  {
   "cell_type": "markdown",
   "metadata": {},
   "source": [
    "# Write a Python program to map two lists into a dictionary."
   ]
  },
  {
   "cell_type": "markdown",
   "metadata": {},
   "source": [
    "input: ['Rash','Kil', 'Varsha'] \n",
    "       [1, 4, 5]\n",
    "output: {'Rash': 1, 'Kil': 4, 'Varsha': 5}"
   ]
  },
  {
   "cell_type": "code",
   "execution_count": null,
   "metadata": {},
   "outputs": [],
   "source": [
    "# conversion of lists to dictionary  \n",
    "def list_dic(test_keys,test_values):\n",
    "    \"\"\"complete the function to return the dictionary mapped by two given lists\n",
    "    \n",
    "    \"\"\"\n",
    "    #start solution\n",
    "    # using naive method\n",
    "    res = {} \n",
    "    for key in test_keys :\n",
    "        for value in test_values :\n",
    "            res[key] = value\n",
    "            test_values.remove(value) \n",
    "            break  \n",
    "    #using dictionary comprehension\n",
    "    # res = {test_keys[i]: test_values[i] for i in range(len(test_keys))}  \n",
    "    return res\n",
    "#end of solution "
   ]
  },
  {
   "cell_type": "code",
   "execution_count": null,
   "metadata": {},
   "outputs": [],
   "source": [
    "# initializing lists \n",
    "test_keys = [\"Rash\", \"Kil\", \"Varsha\"] \n",
    "test_values = [1, 4, 5] \n",
    "# Printing original keys-value lists \n",
    "print (\"Original key list is : \" + str(test_keys)) \n",
    "print (\"Original value list is : \" + str(test_values)) \n",
    "print(\"Resultant dictionary is: \",list_dic(test_keys,test_values))\n"
   ]
  },
  {
   "cell_type": "code",
   "execution_count": null,
   "metadata": {},
   "outputs": [],
   "source": [
    "assert list_dic([\"Rash\", \"Kil\", \"Varsha\"] ,[1, 4, 5])=={'Rash': 1, 'Kil': 4, 'Varsha': 5}\n",
    "assert list_dic([1,2,3,4,5],[10,20,30,40,50])=={1:10,2:20,3:30,4:40,5:50}\n",
    "assert list_dic([\"jack\", \"Kil\", \"bob\",\"vani\"] ,[6, 24, 33,65])=={\"jack\":6, \"Kil\":24, \"bob\":33,\"vani\":65}\n",
    "print(\"all test cases passed\")"
   ]
  },
  {
   "cell_type": "code",
   "execution_count": null,
   "metadata": {},
   "outputs": [],
   "source": []
  }
 ],
 "metadata": {
  "kernelspec": {
   "display_name": "Python 3",
   "language": "python",
   "name": "python3"
  },
  "language_info": {
   "codemirror_mode": {
    "name": "ipython",
    "version": 3
   },
   "file_extension": ".py",
   "mimetype": "text/x-python",
   "name": "python",
   "nbconvert_exporter": "python",
   "pygments_lexer": "ipython3",
   "version": "3.7.5"
  }
 },
 "nbformat": 4,
 "nbformat_minor": 4
}
