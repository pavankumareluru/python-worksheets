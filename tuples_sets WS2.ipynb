{
 "cells": [
  {
   "cell_type": "markdown",
   "metadata": {},
   "source": [
    "# write a python program to concatenate two tuples and repeat the elements in a tuple for given number of times"
   ]
  },
  {
   "cell_type": "code",
   "execution_count": 123,
   "metadata": {},
   "outputs": [],
   "source": [
    "def conc(t1,t2):\n",
    "    \"\"\"return a tuple concatinating t1 and t2\"\"\"\n",
    "    \n",
    "    #solution \n",
    "    t3=t1+t2\n",
    "    return t3\n"
   ]
  },
  {
   "cell_type": "code",
   "execution_count": 124,
   "metadata": {},
   "outputs": [
    {
     "data": {
      "text/plain": [
       "(1, 2, 3, 4, 5, 6)"
      ]
     },
     "execution_count": 124,
     "metadata": {},
     "output_type": "execute_result"
    }
   ],
   "source": [
    "conc((1,2,3),(4,5,6))"
   ]
  },
  {
   "cell_type": "code",
   "execution_count": 125,
   "metadata": {},
   "outputs": [],
   "source": [
    "def rep(x,n):\n",
    "    \"\"\"return a tuple with x as n times\"\"\"\n",
    "    \n",
    "    \n",
    "    #solution\n",
    "    t=(x,)*n\n",
    "    return t"
   ]
  },
  {
   "cell_type": "code",
   "execution_count": 126,
   "metadata": {},
   "outputs": [
    {
     "data": {
      "text/plain": [
       "('repeat',\n",
       " 'repeat',\n",
       " 'repeat',\n",
       " 'repeat',\n",
       " 'repeat',\n",
       " 'repeat',\n",
       " 'repeat',\n",
       " 'repeat',\n",
       " 'repeat',\n",
       " 'repeat')"
      ]
     },
     "execution_count": 126,
     "metadata": {},
     "output_type": "execute_result"
    }
   ],
   "source": [
    "rep('repeat',10)"
   ]
  },
  {
   "cell_type": "code",
   "execution_count": 127,
   "metadata": {},
   "outputs": [
    {
     "name": "stdout",
     "output_type": "stream",
     "text": [
      "all test cases are passed\n"
     ]
    }
   ],
   "source": [
    "assert rep('r',5)==('r','r','r','r','r')\n",
    "assert rep('rep',6)==('rep','rep','rep','rep','rep','rep')\n",
    "assert conc((2,4,5,6),(6,7,8,9))==(2,4,5,6,6,7,8,9)\n",
    "assert conc((12,23,45,66),(24,45,66))==(12,23,45,66,24,45,66)\n",
    "print(\"all test cases are passed\")"
   ]
  },
  {
   "cell_type": "markdown",
   "metadata": {},
   "source": [
    "# Write a Python program to compute sum of elements greater than k in a tuple "
   ]
  },
  {
   "cell_type": "markdown",
   "metadata": {},
   "source": []
  },
  {
   "cell_type": "code",
   "execution_count": 128,
   "metadata": {},
   "outputs": [],
   "source": [
    "def sum_tup(tup,k):\n",
    "    \"\"\"return the sum of elements greater than k \n",
    "    \n",
    "    \"\"\"\n",
    "    #begining of solution\n",
    "    res=0\n",
    "    for i in tup:\n",
    "        if i>k:\n",
    "            res=res+i\n",
    "    return res"
   ]
  },
  {
   "cell_type": "code",
   "execution_count": 129,
   "metadata": {},
   "outputs": [
    {
     "name": "stdout",
     "output_type": "stream",
     "text": [
      "28\n"
     ]
    }
   ],
   "source": [
    "t=(4,6,8,2,3,6,8)\n",
    "print(sum_tup(t,4))"
   ]
  },
  {
   "cell_type": "code",
   "execution_count": 152,
   "metadata": {},
   "outputs": [
    {
     "name": "stdout",
     "output_type": "stream",
     "text": [
      "all test cases are passed\n"
     ]
    }
   ],
   "source": [
    "assert sum_tup((22,34,56,78,88,12),50)==222\n",
    "assert sum_tup((45,66,4,72,31),31)==183\n",
    "assert sum_tup((4,6,8,2,3,6,8),4)==28\n",
    "print(\"all test cases are passed\")"
   ]
  },
  {
   "cell_type": "markdown",
   "metadata": {},
   "source": [
    "# Write a Python program to convert a tuple to a string."
   ]
  },
  {
   "cell_type": "markdown",
   "metadata": {},
   "source": [
    "join elements of a tuple with a character given"
   ]
  },
  {
   "cell_type": "code",
   "execution_count": 131,
   "metadata": {},
   "outputs": [],
   "source": [
    "def tup_str(tup,x):\n",
    "    \"\"\"complete the function to return a string formed by tuple elements and given char\"\"\"\n",
    "    str =  x.join(tup)\n",
    "# gives output as : exercises\n",
    "#join function combines the tuples elements with the character given before function\n",
    "# str='*'.join(tup)\n",
    "#it gives output as : e*x*e*r*c*i*s*e*s\n",
    "    return str\n"
   ]
  },
  {
   "cell_type": "code",
   "execution_count": 132,
   "metadata": {},
   "outputs": [
    {
     "name": "stdout",
     "output_type": "stream",
     "text": [
      "exercises\n",
      "e*x*e*r*c*i*s*e*s\n"
     ]
    }
   ],
   "source": [
    "tup = ('e', 'x', 'e', 'r', 'c', 'i', 's', 'e', 's')\n",
    "print(tup_str(tup,''))\n",
    "print(tup_str(tup,'*'))"
   ]
  },
  {
   "cell_type": "code",
   "execution_count": 133,
   "metadata": {},
   "outputs": [
    {
     "name": "stdout",
     "output_type": "stream",
     "text": [
      "all test cases passed\n"
     ]
    }
   ],
   "source": [
    "assert tup_str(('e', 'x', 'e', 'r', 'c', 'i', 's', 'e', 's'),'*')==\"e*x*e*r*c*i*s*e*s\"\n",
    "assert tup_str(('p','y','t','h','o','n'),'')==\"python\"\n",
    "print(\"all test cases passed\")"
   ]
  },
  {
   "cell_type": "markdown",
   "metadata": {},
   "source": [
    "# Write a python program to find maximum and minimum values of a tuple"
   ]
  },
  {
   "cell_type": "code",
   "execution_count": 134,
   "metadata": {},
   "outputs": [],
   "source": [
    "def max_min(tup):\n",
    "    \"\"\"return maximum and minimum values of tuple\"\"\"\n",
    "    \n",
    "    \n",
    "    #we can return multiple values from function using tuples\n",
    "    return((max(tup),min(tup)))"
   ]
  },
  {
   "cell_type": "code",
   "execution_count": 135,
   "metadata": {},
   "outputs": [
    {
     "name": "stdout",
     "output_type": "stream",
     "text": [
      "maximum and minimum values of tuple are  (54, -32)\n"
     ]
    }
   ],
   "source": [
    "tup=(1,4,5,23,54,36,-32)\n",
    "print(\"maximum and minimum values of tuple are \",max_min(tup))\n"
   ]
  },
  {
   "cell_type": "code",
   "execution_count": 136,
   "metadata": {},
   "outputs": [
    {
     "name": "stdout",
     "output_type": "stream",
     "text": [
      "all test cases are passed\n"
     ]
    }
   ],
   "source": [
    "assert max_min((1,4,5,23,54,36,-32))==(54,-32)\n",
    "assert max_min((6,3,436,7,54,26,23,-26,-54))==(436,-54)\n",
    "assert max_min((2,3,1,3,4,6,7,8,8,12))==(12,1)\n",
    "print(\"all test cases are passed\")"
   ]
  },
  {
   "cell_type": "markdown",
   "metadata": {},
   "source": [
    "# Write a python program to return both HCF and LCM of two numbers from a single function."
   ]
  },
  {
   "cell_type": "code",
   "execution_count": 137,
   "metadata": {},
   "outputs": [],
   "source": [
    "def hcf_lcm(a,b) :\n",
    "    if a > b:\n",
    "          x = a\n",
    "    else:\n",
    "          x = b\n",
    "\n",
    "    for i in range(1, x):\n",
    "          if a % i == 0 and b % i==0:\n",
    "                h = i\n",
    "\n",
    "    for j in range(x, a * b):\n",
    "            if j % a == 0 and j % b == 0:\n",
    "                    l = j\n",
    "                    break       # stop as soon as a match is found\n",
    "    return (h,l)\n",
    "\n"
   ]
  },
  {
   "cell_type": "code",
   "execution_count": 138,
   "metadata": {},
   "outputs": [
    {
     "name": "stdout",
     "output_type": "stream",
     "text": [
      "HCF is :  5\n",
      "LCM is : 50\n"
     ]
    }
   ],
   "source": [
    "tup=hcf_lcm(10,25)\n",
    "print(\"HCF is : \",tup[0])\n",
    "print (\"LCM is :\",tup[1])\n"
   ]
  },
  {
   "cell_type": "code",
   "execution_count": 139,
   "metadata": {},
   "outputs": [
    {
     "name": "stdout",
     "output_type": "stream",
     "text": [
      "all test cases are passed\n"
     ]
    }
   ],
   "source": [
    "assert hcf_lcm(20,45)==(5,180)\n",
    "assert hcf_lcm(10,25)==(5,50)\n",
    "print(\"all test cases are passed\")"
   ]
  },
  {
   "cell_type": "markdown",
   "metadata": {},
   "source": [
    "# Write a program to perform intersection between two sets."
   ]
  },
  {
   "cell_type": "code",
   "execution_count": 140,
   "metadata": {},
   "outputs": [],
   "source": [
    "def  inter(a,b):\n",
    "    \"\"\"return the common elements between a and b\n",
    "    \n",
    "    \"\"\"\n",
    "    return a&b\n",
    "    #return a.intersection(b)\n",
    "    #return b.intersection(a)"
   ]
  },
  {
   "cell_type": "code",
   "execution_count": 141,
   "metadata": {},
   "outputs": [
    {
     "data": {
      "text/plain": [
       "{3, 5, 6, 9, 22}"
      ]
     },
     "execution_count": 141,
     "metadata": {},
     "output_type": "execute_result"
    }
   ],
   "source": [
    "a={1,3,5,6,9,10,22}\n",
    "b={12,3,4,5,6,8,9,22}\n",
    "inter(a,b)"
   ]
  },
  {
   "cell_type": "code",
   "execution_count": 142,
   "metadata": {},
   "outputs": [
    {
     "name": "stdout",
     "output_type": "stream",
     "text": [
      "all test cases passed\n"
     ]
    }
   ],
   "source": [
    "assert inter({1,3,5,6,8,9},{2,3,45,6,9})=={3,6,9}\n",
    "assert inter({2,34,45,66,78},{2,35,34,66})=={2,34,66}\n",
    "print(\"all test cases passed\")"
   ]
  },
  {
   "cell_type": "markdown",
   "metadata": {},
   "source": [
    "# Write a program to perform set differences between two sets.(A-B,B-A)\n"
   ]
  },
  {
   "cell_type": "code",
   "execution_count": 143,
   "metadata": {},
   "outputs": [],
   "source": [
    "def diff(A,B):\n",
    "    \"\"\"return both the set diff of two sets A-B and B-A\"\"\"\n",
    "    \n",
    "    \n",
    "    c=A.difference(B)\n",
    "    d=B.difference(A)\n",
    "    return(c,d)"
   ]
  },
  {
   "cell_type": "code",
   "execution_count": 144,
   "metadata": {},
   "outputs": [
    {
     "name": "stdout",
     "output_type": "stream",
     "text": [
      "difference of (A-B) is: {1, 2, 3}\n",
      "difference of (B-A) is: {8, 6, 7}\n"
     ]
    }
   ],
   "source": [
    "A = {1, 2, 3, 4, 5}\n",
    "B = {4, 5, 6, 7, 8}\n",
    "t=diff(A,B)\n",
    "print(\"difference of (A-B) is:\",t[0])\n",
    "print(\"difference of (B-A) is:\",t[1])"
   ]
  },
  {
   "cell_type": "code",
   "execution_count": 145,
   "metadata": {},
   "outputs": [
    {
     "name": "stdout",
     "output_type": "stream",
     "text": [
      "all test cases are passed\n"
     ]
    }
   ],
   "source": [
    "assert diff({1,2,3,4,5},{4,5,6,7,8})==({1,2,3},{8,6,7})\n",
    "assert diff({4,3,21,35},{21,3,4,6,24,2})==({35},{24,2,6})\n",
    "assert diff({7,5,6,77,45,26},{22,35,26,6,7})==({5,77,45},{22,35})\n",
    "print(\"all test cases are passed\")"
   ]
  },
  {
   "cell_type": "markdown",
   "metadata": {},
   "source": [
    "# Write a program to return all subsets (power set) of a set."
   ]
  },
  {
   "cell_type": "code",
   "execution_count": 146,
   "metadata": {},
   "outputs": [],
   "source": [
    "def get_power_set(s):\n",
    "    \"\"\"complete the following function to return all the subsets of the given set\"\"\"\n",
    "    power_set=[[]]\n",
    "    for elem in s:\n",
    "    # iterate over the sub sets so far\n",
    "       for sub_set in power_set:\n",
    "      # add a new subset consisting of the subset at hand added elem\n",
    "           power_set=power_set+[list(sub_set)+[elem]]\n",
    "    return power_set\n"
   ]
  },
  {
   "cell_type": "code",
   "execution_count": 147,
   "metadata": {},
   "outputs": [
    {
     "name": "stdout",
     "output_type": "stream",
     "text": [
      "[[], [4], [5], [4, 5], [7], [4, 7], [5, 7], [4, 5, 7], [8], [4, 8], [5, 8], [4, 5, 8], [7, 8], [4, 7, 8], [5, 7, 8], [4, 5, 7, 8]]\n"
     ]
    }
   ],
   "source": [
    "print (get_power_set([4,5,7,8])) "
   ]
  },
  {
   "cell_type": "code",
   "execution_count": 148,
   "metadata": {},
   "outputs": [
    {
     "name": "stdout",
     "output_type": "stream",
     "text": [
      "all test cases are passed\n"
     ]
    }
   ],
   "source": [
    "assert get_power_set([1,2,3])==[[], [1], [2], [1, 2], [3], [1, 3], [2, 3], [1, 2, 3]]\n",
    "assert get_power_set([4,5,7,8])==[[], [4], [5], [4, 5], [7], [4, 7], [5, 7], [4, 5, 7], [8], [4, 8], [5, 8], [4, 5, 8], [7, 8], [4, 7, 8], [5, 7, 8], [4, 5, 7, 8]]\n",
    "print(\"all test cases are passed\")"
   ]
  },
  {
   "cell_type": "markdown",
   "metadata": {},
   "source": [
    "# Write a Python program to find maximum and the minimum value in a set."
   ]
  },
  {
   "cell_type": "code",
   "execution_count": 149,
   "metadata": {},
   "outputs": [],
   "source": [
    "def max_min_set(seta):\n",
    "    \"\"\"complete the  following function to return maximum and minimumm values of a set\"\"\"   \n",
    "    mx=max(seta)\n",
    "    mi=min(seta)\n",
    "    return (mx,mi)\n",
    "\n",
    "\n"
   ]
  },
  {
   "cell_type": "code",
   "execution_count": 150,
   "metadata": {},
   "outputs": [
    {
     "name": "stdout",
     "output_type": "stream",
     "text": [
      "maximum value is : 56\n",
      "minimum value is: 2\n"
     ]
    }
   ],
   "source": [
    "setb={2,3,4,56,6,8}\n",
    "t=max_min_set(setb)\n",
    "print(\"maximum value is :\",t[0])\n",
    "print(\"minimum value is:\",t[1])"
   ]
  },
  {
   "cell_type": "code",
   "execution_count": 151,
   "metadata": {},
   "outputs": [
    {
     "name": "stdout",
     "output_type": "stream",
     "text": [
      "all test cases are passed\n"
     ]
    }
   ],
   "source": [
    "assert max_min_set({2,3,4,55,6,78,-23})==(78,-23)\n",
    "assert max_min_set({23,4,6,76,88,-33,-63})==(88,-63)\n",
    "assert max_min_set({2,3,5,7,89,7,8,9,20})==(89,2)\n",
    "print(\"all test cases are passed\")"
   ]
  },
  {
   "cell_type": "code",
   "execution_count": null,
   "metadata": {},
   "outputs": [],
   "source": []
  }
 ],
 "metadata": {
  "kernelspec": {
   "display_name": "Python 3",
   "language": "python",
   "name": "python3"
  },
  "language_info": {
   "codemirror_mode": {
    "name": "ipython",
    "version": 3
   },
   "file_extension": ".py",
   "mimetype": "text/x-python",
   "name": "python",
   "nbconvert_exporter": "python",
   "pygments_lexer": "ipython3",
   "version": "3.7.5"
  }
 },
 "nbformat": 4,
 "nbformat_minor": 4
}
