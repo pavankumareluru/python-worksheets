{
 "cells": [
  {
   "cell_type": "markdown",
   "metadata": {},
   "source": [
    "# Write a Python program to combine two dictionary adding values for common keys."
   ]
  },
  {
   "cell_type": "markdown",
   "metadata": {},
   "source": [
    "d1 = {'a': 100, 'b': 200, 'c':300}\n",
    "d2 = {'a': 300, 'b': 200, 'd':400}\n",
    "Sample output: Counter({'a': 400, 'b': 400, 'd': 400, 'c': 300})"
   ]
  },
  {
   "cell_type": "code",
   "execution_count": 1,
   "metadata": {},
   "outputs": [],
   "source": [
    "def com_dic(d1,d2):\n",
    "    \n",
    "    d3 = dict(d1) # don't do `d3=d1`, you need to make a copy\n",
    "\n",
    "    d3.update(d2) \n",
    "\n",
    "    for i, j in d1.items():\n",
    "\n",
    "        for x, y in d2.items():\n",
    "\n",
    "            if i == x:\n",
    "\n",
    "                d3[i]=(j+y)\n",
    "\n",
    "    return(d3)"
   ]
  },
  {
   "cell_type": "code",
   "execution_count": 4,
   "metadata": {},
   "outputs": [
    {
     "name": "stdout",
     "output_type": "stream",
     "text": [
      "{'a': 400, 'b': 'machineLearning', 'c': 300, 'd': 400}\n"
     ]
    }
   ],
   "source": [
    "d1 = {'a': 100, 'b': \"machine\", 'c':300}\n",
    "\n",
    "d2 = {'a': 300, 'b': \"Learning\", 'd':400}\n",
    "print(com_dic(d1,d2))"
   ]
  },
  {
   "cell_type": "code",
   "execution_count": 6,
   "metadata": {},
   "outputs": [],
   "source": [
    "assert com_dic({'a': 100, 'b': \"machine\", 'c':300},{'a': 300, 'b': \"Learning\", 'd':400})=={'a': 400, 'b': 'machineLearning', 'c': 300, 'd': 400}\n",
    "assert com_dic({'a': 100, 'b': \"machine\",'f':300, 'd':300},{'a': 300, 'e': \"Learning\", 'd':400})=={'a': 400, 'b': \"machine\",'f':300, 'd':700, 'e': \"Learning\"}\n",
    "print(\"all test cases passed\")"
   ]
  },
  {
   "cell_type": "markdown",
   "metadata": {},
   "source": [
    "# Write a Python program to create a dictionary from a string."
   ]
  },
  {
   "cell_type": "markdown",
   "metadata": {},
   "source": [
    "Note: Track the count of the words from the string.\n",
    "Sample string : 'this is the textfile, and it is used to take words and count'\n",
    "\n",
    "Expected output: {'and': 2, 'count': 1, 'used': 1, 'this': 1, 'is': 2, 'it': 1, 'to': 1, 'take': 1, 'words': 1, 'the': 1, 'textfile,': 1}\n"
   ]
  },
  {
   "cell_type": "code",
   "execution_count": 8,
   "metadata": {},
   "outputs": [],
   "source": [
    "def str_dic(text):\n",
    "    \n",
    "    for ch in '.\\'!\")(,;:?-\\n':\n",
    "        text = text.replace(ch, ' ')\n",
    "    wordsArray = text.split(' ')\n",
    "    wordDict = {}\n",
    "    for word in wordsArray:\n",
    "        if len(word) == 0:\n",
    "            continue\n",
    "        else:\n",
    "            wordDict[word.lower()] = wordDict.get(word.lower(), 0) + 1\n",
    "    return(wordDict)\n"
   ]
  },
  {
   "cell_type": "code",
   "execution_count": 11,
   "metadata": {},
   "outputs": [
    {
     "name": "stdout",
     "output_type": "stream",
     "text": [
      "{'given': 1, 'three': 1, 'arrays': 2, 'sorted': 1, 'in': 2, 'non': 1, 'decreasing': 1, 'order': 1, 'print': 1, 'all': 1, 'common': 1, 'elements': 1, 'these': 1}\n"
     ]
    }
   ],
   "source": [
    "text = '''this is the textfile, and it is used to take words and count'''\n",
    "print(str_dic(text))"
   ]
  },
  {
   "cell_type": "code",
   "execution_count": 13,
   "metadata": {},
   "outputs": [],
   "source": [
    "assert str_dic('''this is the textfile, and it is used to take words and count''')=={'this': 1, 'is': 2, 'the': 1, 'textfile': 1, 'and': 2, 'it': 1, 'used': 1, 'to': 1, 'take': 1, 'words': 1, 'count': 1}\n",
    "assert str_dic('Given three arrays sorted in non-decreasing order, print all common elements in these arrays.')=={'given': 1, 'three': 1, 'arrays': 2, 'sorted': 1, 'in': 2, 'non': 1, 'decreasing': 1, 'order': 1, 'print': 1, 'all': 1, 'common': 1, 'elements': 1, 'these': 1}\n",
    "print(\"all test cases passed\")"
   ]
  },
  {
   "cell_type": "markdown",
   "metadata": {},
   "source": [
    "# Find common elements in three sorted arrays by dictionary intersection"
   ]
  },
  {
   "cell_type": "markdown",
   "metadata": {},
   "source": [
    "Given three arrays sorted in non-decreasing order, print all common elements in these arrays.\n",
    "Examples:\n",
    "Input:  ar1 = [1, 5, 10, 20, 40, 80]\n",
    "        ar2 = [6, 7, 20, 80, 100]\n",
    "        ar3 = [3, 4, 15, 20, 30, 70, 80, 120]\n",
    "Output: [80, 20]\n"
   ]
  },
  {
   "cell_type": "code",
   "execution_count": 30,
   "metadata": {},
   "outputs": [],
   "source": [
    "# Function to find common elements in three \n",
    "# sorted arrays \n",
    "from collections import Counter \n",
    "  \n",
    "def commonElement(ar1,ar2,ar3): \n",
    "    \"\"\"complete the following function to return the list of common elements in three arrays\n",
    "    \n",
    "    \n",
    "    \"\"\"\n",
    "    #solution begins\n",
    "    # first convert lists into dictionary \n",
    "    ar1 = Counter(ar1) \n",
    "    ar2 = Counter(ar2) \n",
    "    ar3 = Counter(ar3) \n",
    "     \n",
    "     # perform intersection operation \n",
    "    resultDict = dict(ar1.items() & ar2.items() & ar3.items()) \n",
    "    common = [] \n",
    "      \n",
    "     # iterate through resultant dictionary \n",
    "     # and collect common elements \n",
    "    for (key,val) in resultDict.items(): \n",
    "          for i in range(0,val): \n",
    "            common.append(key) \n",
    "  \n",
    "    return(common) \n",
    "\n",
    "   #end of solution"
   ]
  },
  {
   "cell_type": "code",
   "execution_count": 36,
   "metadata": {},
   "outputs": [
    {
     "name": "stdout",
     "output_type": "stream",
     "text": [
      "[80, 20]\n"
     ]
    }
   ],
   "source": [
    "ar1 = [1, 5, 10, 20, 40, 80] \n",
    "ar2 = [6, 7, 20, 80, 100] \n",
    "ar3 = [3, 4, 15, 20, 30, 70, 80, 120] \n",
    "print(commonElement(ar1,ar2,ar3)) \n"
   ]
  },
  {
   "cell_type": "code",
   "execution_count": 38,
   "metadata": {},
   "outputs": [
    {
     "name": "stdout",
     "output_type": "stream",
     "text": [
      "all test cases passed\n"
     ]
    }
   ],
   "source": [
    "assert commonElement([1, 5, 10, 20, 40, 80],[6, 7, 20, 80, 100],[3, 4, 15, 20, 30, 70, 80, 120])==[80,20]\n",
    "assert commonElement([20,35,66,222,232],[66,88,99,100,232],[3, 4, 15,66,232])==[232, 66]\n",
    "assert commonElement([20,66,88,121],[1,3,20,88],[20,33,44,55,88])==[88,20]\n",
    "print(\"all test cases passed\")"
   ]
  },
  {
   "cell_type": "markdown",
   "metadata": {},
   "source": [
    "# Write a Python program to replace dictionary values with their average."
   ]
  },
  {
   "cell_type": "markdown",
   "metadata": {},
   "source": [
    "Input:  {'id' : 1, 'subject' : 'math', 'V' : 70, 'VI' : 82}\n",
    "Output:   {id : 1, subject: math, avg= 76.0}\n"
   ]
  },
  {
   "cell_type": "code",
   "execution_count": 66,
   "metadata": {},
   "outputs": [],
   "source": [
    "def sum_math_v_vi_average(list_of_dicts):\n",
    "    \n",
    "    \n",
    "    #solution begins\n",
    "    for d in list_of_dicts:\n",
    "        n1 = d.pop('V')\n",
    "        n2 = d.pop('VI')\n",
    "        d['avg'] = (n1 + n2)/2\n",
    "    return list_of_dicts\n",
    "#end of solution\n"
   ]
  },
  {
   "cell_type": "code",
   "execution_count": 67,
   "metadata": {},
   "outputs": [
    {
     "name": "stdout",
     "output_type": "stream",
     "text": [
      "[{'id': 1, 'subject': 'math', 'avg': 76.0}, {'id': 2, 'subject': 'math', 'avg': 73.5}, {'id': 3, 'subject': 'math', 'avg': 80.5}]\n"
     ]
    }
   ],
   "source": [
    "student_details= [\n",
    "  {'id' : 1, 'subject' : 'math', 'V' : 70, 'VI' : 82},\n",
    "  {'id' : 2, 'subject' : 'math', 'V' : 73, 'VI' : 74},\n",
    "  {'id' : 3, 'subject' : 'math', 'V' : 75, 'VI' : 86}\n",
    "]\n",
    "print(sum_math_v_vi_average(student_details))\n",
    "\n"
   ]
  },
  {
   "cell_type": "code",
   "execution_count": 70,
   "metadata": {},
   "outputs": [],
   "source": [
    "assert sum_math_v_vi_average([\n",
    "  {'id' : 1, 'subject' : 'math', 'V' : 70, 'VI' : 82},\n",
    "  {'id' : 2, 'subject' : 'math', 'V' : 73, 'VI' : 74},\n",
    "  {'id' : 3, 'subject' : 'math', 'V' : 75, 'VI' : 86}\n",
    "])==[{'id': 1, 'subject': 'math', 'avg': 76.0}, {'id': 2, 'subject': 'math', 'avg': 73.5}, {'id': 3, 'subject': 'math', 'avg': 80.5}]\n",
    "assert sum_math_v_vi_average([\n",
    "  {'id' : 22, 'subject' : 'physics', 'V' : 50, 'VI' : 82},\n",
    "  {'id' : 25, 'subject' : 'math', 'V' : 60, 'VI' : 50},\n",
    "  {'id' : 36, 'subject' : 'chemistry', 'V' : 40, 'VI' : 60}\n",
    "])==[{'id': 22, 'subject': 'physics', 'avg': 66.0}, {'id': 25, 'subject': 'math', 'avg': 55.0}, {'id': 36, 'subject': 'chemistry', 'avg': 50.0}]\n",
    "print(\"all test cases passed\")"
   ]
  },
  {
   "cell_type": "markdown",
   "metadata": {},
   "source": [
    "# Dictionary and counter in Python to find winner of election\n"
   ]
  },
  {
   "cell_type": "markdown",
   "metadata": {},
   "source": [
    "Given an array of names of candidates in an election. A candidate name in the array represents a vote cast to the candidate. Print the name of candidates received Max vote. If there is tie, print a lexicographically smaller name.\n",
    "Examples:\n",
    "Input :  votes[] = {\"john\", \"johnny\", \"jackie\", \n",
    "                    \"johnny\", \"john\", \"jackie\", \n",
    "                    \"jamie\", \"jamie\", \"john\",\n",
    "                    \"johnny\", \"jamie\", \"johnny\", \n",
    "                    \"john\"};\n",
    "Output : John\n"
   ]
  },
  {
   "cell_type": "code",
   "execution_count": 106,
   "metadata": {},
   "outputs": [],
   "source": [
    "from collections import Counter  \n",
    "\n",
    "def winner(votes):\n",
    "  \n",
    " #Count the votes for persons and stores in the dictionary \n",
    "\n",
    "    vote_count=Counter(votes) \n",
    "\n",
    "  \n",
    " #Find the maximum number of votes \n",
    "\n",
    "    max_votes=max(vote_count.values()) \n",
    "\n",
    "  \n",
    " #Search for people having maximum votes and store in a list \n",
    "\n",
    "    lst=[i for i in vote_count.keys() if vote_count[i]==max_votes] \n",
    "\n",
    "  \n",
    " #Sort the list and print lexicographical smallest name \n",
    "\n",
    "    return(sorted(lst)[0])\n"
   ]
  },
  {
   "cell_type": "code",
   "execution_count": 107,
   "metadata": {},
   "outputs": [
    {
     "name": "stdout",
     "output_type": "stream",
     "text": [
      "john\n"
     ]
    }
   ],
   "source": [
    "input =['john','johnny','jackie','johnny','john','jackie','jamie','jamie', \n",
    "'john','johnny','jamie','johnny','john'] \n",
    "print(winner(input))\n"
   ]
  },
  {
   "cell_type": "code",
   "execution_count": 109,
   "metadata": {},
   "outputs": [],
   "source": [
    "assert winner(['john','johnny','jackie','johnny','john','jackie','jamie','jamie', \n",
    "'john','johnny','jamie','johnny','john'] )== \"john\"\n",
    "assert winner(['sai','johnny','pavan','johnny','pavan','pavan','akhil','akhil', \n",
    "'pavan','sai','sai','johnny','pavan'] )==\"pavan\"\n",
    "print(\"all test cases passed\")"
   ]
  },
  {
   "cell_type": "markdown",
   "metadata": {},
   "source": [
    "# write a python program for swapping Hierarchy in Nested Dictionaries."
   ]
  },
  {
   "cell_type": "markdown",
   "metadata": {},
   "source": [
    "Input : test_dict = {‘Gfg’: { ‘a’ : [1, 3, 7, 8], ‘b’ : [4, 9], ‘c’ : [0, 7]}}\n",
    "Output : {‘c’: {‘Gfg’: [0, 7]}, ‘b’: {‘Gfg’: [4, 9]}, ‘a’: {‘Gfg’: [1, 3, 7, 8]}}\n",
    "\n",
    "Input : test_dict = {‘Gfg’: {‘best’ : [1, 3, 4]}}\n",
    "Output : {‘best’: {‘Gfg’: [1, 3, 4]}}\n"
   ]
  },
  {
   "cell_type": "code",
   "execution_count": 113,
   "metadata": {},
   "outputs": [],
   "source": [
    "# Swapping Hierarchy in Nested Dictionaries \n",
    "# Using loop + items() \n",
    "def hierarchy(test_dict):\n",
    "    res = dict() \n",
    "    for key, val in test_dict.items(): \n",
    "        for key_in, val_in in val.items(): \n",
    "            if key_in not in res: \n",
    "                temp = dict() \n",
    "            else: \n",
    "                temp = res[key_in] \n",
    "            temp[key] = val_in \n",
    "            res[key_in] = temp \n",
    "    return res\n"
   ]
  },
  {
   "cell_type": "code",
   "execution_count": 118,
   "metadata": {},
   "outputs": [
    {
     "name": "stdout",
     "output_type": "stream",
     "text": [
      "The original dictionary : {'Gfg': {'a': [1, 3], 'b': [3, 6], 'c': [6, 7, 8]}, 'Best': {'a': [7, 9], 'b': [5, 3, 2], 'd': [0, 1, 0]}}\n",
      "The rearrannged dictionary:{'a': {'Gfg': [1, 3], 'Best': [7, 9]}, 'b': {'Gfg': [3, 6], 'Best': [5, 3, 2]}, 'c': {'Gfg': [6, 7, 8]}, 'd': {'Best': [0, 1, 0]}}\n"
     ]
    }
   ],
   "source": [
    "# initializing dictionary \n",
    "test_dict = {'Gfg': { 'a' : [1, 3], 'b' : [3, 6], 'c' : [6, 7, 8]}, \n",
    "             'Best': { 'a' : [7, 9], 'b' : [5, 3, 2], 'd' : [0, 1, 0]}} \n",
    "  \n",
    "# printing original dictionary \n",
    "print(\"The original dictionary : \" + str(test_dict)) \n",
    "  \n",
    "print(\"The rearrannged dictionary:\"+str(hierarchy(test_dict)))"
   ]
  },
  {
   "cell_type": "code",
   "execution_count": 117,
   "metadata": {},
   "outputs": [],
   "source": [
    "assert hierarchy({'Gfg': {'a': [1, 3], 'b': [3, 6], 'c': [6, 7, 8]}, 'Best': {'a': [7, 9], 'b': [5, 3, 2], 'd': [0, 1, 0]}})=={'a': {'Gfg': [1, 3], 'Best': [7, 9]}, 'b': {'Gfg': [3, 6], 'Best': [5, 3, 2]}, 'c': {'Gfg': [6, 7, 8]}, 'd': {'Best': [0, 1, 0]}}\n",
    "assert hierarchy({'a': {'python': [2, 6], 'machine': [5, 10], 'learning': [6, 7, 8]}, 'b': {'pandas': [7, 9], 'numpy': [5, 3, 2], 'scikit': [0, 1, 0]}})=={'python': {'a': [2, 6]}, 'machine': {'a': [5, 10]}, 'learning': {'a': [6, 7, 8]}, 'pandas': {'b': [7, 9]}, 'numpy': {'b': [5, 3, 2]}, 'scikit': {'b': [0, 1, 0]}}\n",
    "print(\"all test cases passed\")"
   ]
  },
  {
   "cell_type": "markdown",
   "metadata": {},
   "source": [
    "# Write a Python program using Dictionary to find mirror characters in a string"
   ]
  },
  {
   "cell_type": "markdown",
   "metadata": {},
   "source": [
    "Given a string and a number N, we need to mirror the characters from N-th position up to the length of the string in the alphabetical order. In mirror operation, we change ‘a’ to ‘z’, ‘b’ to ‘y’, and so on.\n",
    "Examples:\n",
    "Input : N = 3\n",
    "        paradox\n",
    "Output : paizwlc\n",
    "We mirror characters from position 3 to end.\n",
    "Input : N = 6\n",
    "        pneumonia\n",
    "Output : pnefnlmrz\n"
   ]
  },
  {
   "cell_type": "code",
   "execution_count": 119,
   "metadata": {},
   "outputs": [],
   "source": [
    "# function to mirror characters of a string \n",
    "  \n",
    "def mirrorChars(input,k): \n",
    "  \n",
    "    # create dictionary \n",
    "    original = 'abcdefghijklmnopqrstuvwxyz'\n",
    "    reverse = 'zyxwvutsrqponmlkjihgfedcba'\n",
    "    dictChars = dict(zip(original,reverse)) \n",
    "  \n",
    "    # separate out string after length k to change \n",
    "    # characters in mirror \n",
    "    prefix = input[0:k-1] \n",
    "    suffix = input[k-1:] \n",
    "    mirror = '' \n",
    "  \n",
    "    # change into mirror \n",
    "    for i in range(0,len(suffix)): \n",
    "         mirror = mirror + dictChars[suffix[i]] \n",
    "  \n",
    "    # concat prefix and mirrored part \n",
    "    return (prefix+mirror) \n"
   ]
  },
  {
   "cell_type": "code",
   "execution_count": 123,
   "metadata": {},
   "outputs": [
    {
     "data": {
      "text/plain": [
       "'lezimrmt'"
      ]
     },
     "execution_count": 123,
     "metadata": {},
     "output_type": "execute_result"
    }
   ],
   "source": [
    "input = 'paradox'\n",
    "k = 3\n",
    "#mirrorChars(input,k)\n",
    "\n",
    "mirrorChars(\"learning\",3)"
   ]
  },
  {
   "cell_type": "code",
   "execution_count": 124,
   "metadata": {},
   "outputs": [
    {
     "name": "stdout",
     "output_type": "stream",
     "text": [
      "all test cases passed\n"
     ]
    }
   ],
   "source": [
    "assert mirrorChars(\"python\",4)=='pytslm'\n",
    "assert mirrorChars(\"machine\",2)=='mzxsrmv'\n",
    "assert mirrorChars(\"learning\",3)=='lezimrmt'\n",
    "print(\"all test cases passed\")"
   ]
  },
  {
   "cell_type": "markdown",
   "metadata": {},
   "source": [
    "# Write a Python program to Swap Keys and Values in Dictionary"
   ]
  },
  {
   "cell_type": "markdown",
   "metadata": {},
   "source": [
    "( program should be compatible when there are multiple same values)\n",
    "Input: {‘A’: 67, ‘B’: 23, ‘C’: 45, ‘E’: 12, ‘F’: 69, ‘G’: 67, ‘H’: 23}\n",
    "Output: {45: [‘C’], 67: [‘A’, ‘G’], 12: [‘E’], 69: [‘F’], 23: [‘B’, ‘H’]}\n"
   ]
  },
  {
   "cell_type": "code",
   "execution_count": 138,
   "metadata": {},
   "outputs": [],
   "source": [
    "# swap of key and value  \n",
    "# initializing dictionary  \n",
    "def swap_dict(old_dict):\n",
    "    new_dict = {} \n",
    "    for key, value in old_dict.items(): \n",
    "        if value in new_dict: \n",
    "            new_dict[value].append(key) \n",
    "        else: \n",
    "            new_dict[value]=[key] \n",
    "    return new_dict"
   ]
  },
  {
   "cell_type": "code",
   "execution_count": 139,
   "metadata": {},
   "outputs": [
    {
     "name": "stdout",
     "output_type": "stream",
     "text": [
      "Original dictionary is : \n",
      "{'p': 35, 'q': 26, 'r': 66, 's': 35, 'w': 69, 'x': 69, 'y': 69}\n",
      "Dictionary after swapping is :  \n",
      "keys: values\n",
      "35  : ['p', 's']\n",
      "26  : ['q']\n",
      "66  : ['r']\n",
      "69  : ['w', 'x', 'y']\n"
     ]
    }
   ],
   "source": [
    "old_dict = {'p': 35, 'q': 26, 'r': 66, 's': 35, 'w': 69, 'x': 69, 'y': 69} \n",
    "  # Printing original dictionary  \n",
    "print (\"Original dictionary is : \") \n",
    "print(old_dict)  \n",
    "print (\"Dictionary after swapping is :  \")  \n",
    "print(\"keys: values\") \n",
    "new_dict=swap_dict(old_dict)\n",
    "for i in new_dict: \n",
    "    print(i, \" :\", new_dict[i]) \n",
    "  "
   ]
  },
  {
   "cell_type": "code",
   "execution_count": 133,
   "metadata": {},
   "outputs": [],
   "source": [
    "assert swap_dict({'A': 67, 'B': 23, 'C': 45, 'E': 12, 'F': 69, 'G': 67, 'H': 23})=={67: ['A', 'G'], 23: ['B', 'H'], 45: ['C'], 12: ['E'], 69: ['F']}\n",
    "assert swap_dict({'p': 35, 'q': 26, 'r': 66, 's': 35, 'w': 69, 'x': 69, 'y': 69})=={35: ['p', 's'], 26: ['q'], 66: ['r'], 69: ['w', 'x', 'y']}\n",
    "print(\"all test cases are passed\")"
   ]
  },
  {
   "cell_type": "markdown",
   "metadata": {},
   "source": [
    "# Write a progran to Filter dictionary values in heterogenous dictionary."
   ]
  },
  {
   "cell_type": "markdown",
   "metadata": {},
   "source": [
    "program should be capable of filtering hetrogenous data type (strings)in values and values grater than limit k\n",
    "Input: {'python' : 4, 'machine' : 2, 'learning' : 3, 'numpy' : 'pandas'} \n",
    "Output: {'python' : 4, 'machine' : 2, 'learning' : 3} \n"
   ]
  },
  {
   "cell_type": "code",
   "execution_count": 187,
   "metadata": {},
   "outputs": [],
   "source": [
    "# Filter dictionary values in heterogenous dictionary \n",
    "# Using type() + dictionary comprehension \n",
    "def filter_dic(test_dic):\n",
    "    \n",
    "\n",
    "# Filter dictionary values in heterogenous dictionary \n",
    "# Using type() + dictionary comprehension \n",
    "    res = {key : val for key, val in test_dict.items() if type(val) == int} \n",
    "\n",
    "# printing result \n",
    "    return res"
   ]
  },
  {
   "cell_type": "code",
   "execution_count": 202,
   "metadata": {},
   "outputs": [
    {
     "name": "stdout",
     "output_type": "stream",
     "text": [
      "The original dictionary : {'python': 4, 'machine': 2, 'learning': 3, 'numpy': 'pandas'}\n",
      "filtered dictionary is: {'python': 4, 'machine': 2, 'learning': 3}\n"
     ]
    }
   ],
   "source": [
    "# initializing dictionary \n",
    "test_dict = {'python' : 4, 'machine' : 2, 'learning' : 3, 'numpy' : 'pandas'}\n",
    "# printing original dictionary \n",
    "print(\"The original dictionary : \" + str(test_dict)) \n",
    "\n",
    "print(\"filtered dictionary is:\",filter_dic(test_dict))"
   ]
  },
  {
   "cell_type": "code",
   "execution_count": 207,
   "metadata": {},
   "outputs": [
    {
     "name": "stdout",
     "output_type": "stream",
     "text": [
      "all test cases passed\n"
     ]
    }
   ],
   "source": [
    "assert filter_dic({'python': 4, 'machine': 2, 'learning': 3, 'numpy': 'pandas'})=={'python': 4, 'machine': 2, 'learning': 3}\n",
    "#assert filter_dic({'pandas': 7, 'numpy': 8, 'scikit': 3, 'python': 'jupyter'})=={'pandas': 7, 'numpy': 8, 'scikit': 3}\n",
    "print(\"all test cases passed\")"
   ]
  },
  {
   "cell_type": "markdown",
   "metadata": {},
   "source": [
    "# Program to create grade calculator in Python"
   ]
  },
  {
   "cell_type": "markdown",
   "metadata": {},
   "source": [
    "Given different scored marks of students. We need to find grades. The test score is an average of the respective marks scored in assignments, tests and lab-works. The final test score is assigned using below formula.\n",
    "\n",
    "10 % of marks scored from submission of Assignments\n",
    "70 % of marks scored from Test\n",
    "20 % of marks scored in Lab-Works\n",
    " \n",
    "Grade will be calculated according to :\n",
    "\n",
    "1. score >= 90 : \"A\"\n",
    "2. score >= 80 : \"B\"\n",
    "3. score >= 70 : \"C\"\n",
    "4. score >= 60 : \"D\"\n",
    "Also, calculate the total class average and letter grade of class.\n"
   ]
  },
  {
   "cell_type": "code",
   "execution_count": 208,
   "metadata": {},
   "outputs": [],
   "source": [
    "# Creating a dictionary which  \n",
    "# consists of the student name, \n",
    "# assignment result test results \n",
    "# and their respective lab results \n",
    "  \n",
    "\n",
    "# Function calculates average  \n",
    "def get_average(marks): \n",
    "    total_sum = sum(marks) \n",
    "    total_sum = float(total_sum) \n",
    "    return total_sum / len(marks) \n",
    "  \n",
    "# Function calculates total average \n",
    "def calculate_total_average(students): \n",
    "    assignment = get_average(students[\"assignment\"]) \n",
    "    test = get_average(students[\"test\"]) \n",
    "    lab = get_average(students[\"lab\"]) \n",
    "  \n",
    "    # Return the result based \n",
    "    # on weightage supplied \n",
    "    # 10 % from assignments \n",
    "    # 70 % from test \n",
    "    # 20 % from lab-works \n",
    "    return (0.1 * assignment +\n",
    "            0.7 * test + 0.2 * lab) \n",
    "  \n",
    "  \n",
    " # Calculate letter grade of each student \n",
    "def assign_letter_grade(score): \n",
    "    if score >= 90: return \"A\"\n",
    "    elif score >= 80: return \"B\"\n",
    "    elif score >= 70: return \"C\"\n",
    "    elif score >= 60: return \"D\"\n",
    "    else : return \"E\"\n",
    "  \n",
    " # Function to calculate the total \n",
    "# average marks of the whole class \n",
    "def class_average_is(student_list): \n",
    "    result_list = [] \n",
    "  \n",
    "    for student in student_list: \n",
    "        stud_avg = calculate_total_average(student) \n",
    "        result_list.append(stud_avg) \n",
    "        return get_average(result_list) \n",
    "  \n",
    " # Student list consisting the \n",
    "# dictionary of all students \n"
   ]
  },
  {
   "cell_type": "code",
   "execution_count": 209,
   "metadata": {},
   "outputs": [
    {
     "name": "stdout",
     "output_type": "stream",
     "text": [
      "Jack Frost\n",
      "=+=+=+=+=+=+=+=+=+=+=+=+=+=+=+=+=+=+=+=\n",
      "Average marks of Jack Frost is : 72.79 \n",
      "Letter Grade of Jack Frost is : C\n",
      "\n",
      "James Potter\n",
      "=+=+=+=+=+=+=+=+=+=+=+=+=+=+=+=+=+=+=+=\n",
      "Average marks of James Potter is : 75.962 \n",
      "Letter Grade of James Potter is : C\n",
      "\n",
      "Dylan Rhodes\n",
      "=+=+=+=+=+=+=+=+=+=+=+=+=+=+=+=+=+=+=+=\n",
      "Average marks of Dylan Rhodes is : 75.775 \n",
      "Letter Grade of Dylan Rhodes is : C\n",
      "\n",
      "Jessica Stone\n",
      "=+=+=+=+=+=+=+=+=+=+=+=+=+=+=+=+=+=+=+=\n",
      "Average marks of Jessica Stone is : 48.356 \n",
      "Letter Grade of Jessica Stone is : E\n",
      "\n",
      "Tom Hanks\n",
      "=+=+=+=+=+=+=+=+=+=+=+=+=+=+=+=+=+=+=+=\n",
      "Average marks of Tom Hanks is : 57.26 \n",
      "Letter Grade of Tom Hanks is : E\n",
      "\n",
      "Class Average is 72.79\n",
      "Letter Grade of the class is C \n"
     ]
    }
   ],
   "source": [
    "# 1. Jack's dictionary \n",
    "jack = { \"name\":\"Jack Frost\", \n",
    "         \"assignment\" : [80, 50, 40, 20], \n",
    "         \"test\" : [75, 75], \n",
    "         \"lab\" : [78.20, 77.20] \n",
    "       } \n",
    "         \n",
    "# 2. James's dictionary \n",
    "james = { \"name\":\"James Potter\", \n",
    "          \"assignment\" : [82, 56, 44, 30], \n",
    "          \"test\" : [80, 80], \n",
    "          \"lab\" : [67.90, 78.72] \n",
    "        } \n",
    "  \n",
    "# 3. Dylan's dictionary \n",
    "dylan = { \"name\" : \"Dylan Rhodes\", \n",
    "          \"assignment\" : [77, 82, 23, 39], \n",
    "          \"test\" : [78, 77], \n",
    "          \"lab\" : [80, 80] \n",
    "        } \n",
    "          \n",
    "# 4. Jessica's dictionary \n",
    "jess = { \"name\" : \"Jessica Stone\", \n",
    "         \"assignment\" : [67, 55, 77, 21], \n",
    "         \"test\" : [40, 50], \n",
    "         \"lab\" : [69, 44.56] \n",
    "       } \n",
    "         \n",
    "# 5. Tom's dictionary \n",
    "tom = { \"name\" : \"Tom Hanks\", \n",
    "        \"assignment\" : [29, 89, 60, 56], \n",
    "        \"test\" : [65, 56], \n",
    "        \"lab\" : [50, 40.6] \n",
    "      } \n",
    "students = [jack, james, dylan, jess, tom] \n",
    "  \n",
    " # Iterate through the students list \n",
    "# and calculate their respective \n",
    "# average marks and letter grade \n",
    "for i in students : \n",
    "    print(i[\"name\"]) \n",
    "    print(\"=+=+=+=+=+=+=+=+=+=+=+=+=+=+=+=+=+=+=+=\") \n",
    "    print(\"Average marks of %s is : %s \" %(i[\"name\"], \n",
    "                         calculate_total_average(i))) \n",
    "                           \n",
    "    print(\"Letter Grade of %s is : %s\" %(i[\"name\"], \n",
    "    assign_letter_grade(calculate_total_average(i)))) \n",
    "      \n",
    "    print() \n",
    "  \n",
    "  \n",
    "# Calculate the average of whole class \n",
    "class_av = class_average_is(students) \n",
    "  \n",
    "print( \"Class Average is %s\" %(class_av)) \n",
    "print(\"Letter Grade of the class is %s \" %(assign_letter_grade(class_av)))\n"
   ]
  },
  {
   "cell_type": "code",
   "execution_count": 212,
   "metadata": {},
   "outputs": [],
   "source": [
    "assert calculate_total_average({ \"name\":\"James Potter\", \n",
    "          \"assignment\" : [82, 56, 44, 30], \n",
    "          \"test\" : [80, 80], \n",
    "          \"lab\" : [67.90, 78.72] \n",
    "        })==75.962\n",
    "assert  calculate_total_average({ \"name\" : \"Jessica Stone\", \n",
    "         \"assignment\" : [67, 55, 77, 21], \n",
    "         \"test\" : [40, 50], \n",
    "         \"lab\" : [69, 44.56] \n",
    "       })==48.356\n",
    "print(\"all test cases passed\")"
   ]
  },
  {
   "cell_type": "code",
   "execution_count": null,
   "metadata": {},
   "outputs": [],
   "source": []
  }
 ],
 "metadata": {
  "kernelspec": {
   "display_name": "Python 3",
   "language": "python",
   "name": "python3"
  },
  "language_info": {
   "codemirror_mode": {
    "name": "ipython",
    "version": 3
   },
   "file_extension": ".py",
   "mimetype": "text/x-python",
   "name": "python",
   "nbconvert_exporter": "python",
   "pygments_lexer": "ipython3",
   "version": "3.7.5"
  }
 },
 "nbformat": 4,
 "nbformat_minor": 4
}
