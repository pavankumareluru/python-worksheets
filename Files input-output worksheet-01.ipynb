{
 "cells": [
  {
   "cell_type": "markdown",
   "metadata": {},
   "source": [
    "Excersice 1\n",
    "Write a Python program to read an entire text file.\n",
    "(Content in text file: Python is programming language.)"
   ]
  },
  {
   "cell_type": "code",
   "execution_count": 28,
   "metadata": {},
   "outputs": [
    {
     "name": "stdout",
     "output_type": "stream",
     "text": [
      "Python is programming language.\n"
     ]
    }
   ],
   "source": [
    "#code\n",
    "def file_read(fname):\n",
    "        txt = open(fname)\n",
    "        output=txt.read()\n",
    "        return output\n",
    "print(file_read('test.txt'))"
   ]
  },
  {
   "cell_type": "code",
   "execution_count": 29,
   "metadata": {},
   "outputs": [
    {
     "name": "stdout",
     "output_type": "stream",
     "text": [
      "All pass\n"
     ]
    }
   ],
   "source": [
    "#test cell\n",
    "#Don't change data of this cell\n",
    "assert file_read('test.txt')==('Python is programming language.')\n",
    "print('All pass')"
   ]
  },
  {
   "cell_type": "markdown",
   "metadata": {},
   "source": [
    "Excersice 2\n",
    "Write a Python program to write text to a file and display the text."
   ]
  },
  {
   "cell_type": "code",
   "execution_count": 32,
   "metadata": {},
   "outputs": [
    {
     "name": "stdout",
     "output_type": "stream",
     "text": [
      "Python\n"
     ]
    }
   ],
   "source": [
    "#code\n",
    "def file_read(fname):\n",
    "        with open(fname, \"w\") as myfile:\n",
    "                myfile.write(\"Python\")\n",
    "        txt = open(fname)\n",
    "        output=txt.read()\n",
    "        return output\n",
    "print(file_read('abc.txt'))"
   ]
  },
  {
   "cell_type": "code",
   "execution_count": 33,
   "metadata": {},
   "outputs": [
    {
     "name": "stdout",
     "output_type": "stream",
     "text": [
      "All pass\n"
     ]
    }
   ],
   "source": [
    "assert file_read('abc.txt')==(\"Python\")\n",
    "print(\"All pass\")"
   ]
  },
  {
   "cell_type": "markdown",
   "metadata": {},
   "source": [
    "Excersice 3\n",
    "Write a python program to find the longest words using file concept.(Content in text file :- Python Exercises,\n",
    "Xcelerator\n",
    "dictionaries)"
   ]
  },
  {
   "cell_type": "code",
   "execution_count": 2,
   "metadata": {},
   "outputs": [
    {
     "name": "stdout",
     "output_type": "stream",
     "text": [
      "['dictionaries']\n"
     ]
    }
   ],
   "source": [
    "#code\n",
    "def longest(filename):\n",
    "    with open(filename, 'r') as infile:\n",
    "              words = infile.read().split()\n",
    "    max_len = len(max(words, key=len))\n",
    "    return [word for word in words if len(word) == max_len]\n",
    "print(longest('abc.txt'))"
   ]
  },
  {
   "cell_type": "code",
   "execution_count": 3,
   "metadata": {
    "scrolled": true
   },
   "outputs": [
    {
     "name": "stdout",
     "output_type": "stream",
     "text": [
      "All pass\n"
     ]
    }
   ],
   "source": [
    "#test cell\n",
    "#Don't change data of this cell\n",
    "assert longest(\"abc.txt\")==['dictionaries']\n",
    "print(\"All pass\")"
   ]
  },
  {
   "cell_type": "markdown",
   "metadata": {},
   "source": [
    "Excersice 4\n",
    "Write a Python program to count the number of lines in a text file.(Content is text file is: any word,alphabate or statement in 3 different lines)"
   ]
  },
  {
   "cell_type": "code",
   "execution_count": 11,
   "metadata": {},
   "outputs": [
    {
     "name": "stdout",
     "output_type": "stream",
     "text": [
      "3\n"
     ]
    }
   ],
   "source": [
    "#code\n",
    "def file_length(fname):\n",
    "        with open(fname) as f:\n",
    "                for i, l in enumerate(f):\n",
    "                        pass\n",
    "        return i + 1\n",
    "print(file_length(\"abc.txt\"))"
   ]
  },
  {
   "cell_type": "code",
   "execution_count": 12,
   "metadata": {},
   "outputs": [
    {
     "name": "stdout",
     "output_type": "stream",
     "text": [
      "All pass\n"
     ]
    }
   ],
   "source": [
    "#test cell\n",
    "#Don't change data of this cell\n",
    "assert file_length(\"abc.txt\")==3\n",
    "print(\"All pass\")"
   ]
  },
  {
   "cell_type": "markdown",
   "metadata": {},
   "source": [
    "Excersice 5\n",
    "Write a Python program to count the frequency of words in a file.(Content is text file :- Python Excersices Python Xcelerator)"
   ]
  },
  {
   "cell_type": "code",
   "execution_count": 18,
   "metadata": {},
   "outputs": [
    {
     "name": "stdout",
     "output_type": "stream",
     "text": [
      "Counter({'Python': 2, 'Exercises': 1, 'Xcelerator': 1})\n"
     ]
    }
   ],
   "source": [
    "#code\n",
    "from collections import Counter\n",
    "def count(fname):\n",
    "        with open(fname) as f:\n",
    "                output= Counter(f.read().split())\n",
    "                return output\n",
    "print(count(\"test.txt\"))\n"
   ]
  },
  {
   "cell_type": "code",
   "execution_count": 20,
   "metadata": {},
   "outputs": [
    {
     "name": "stdout",
     "output_type": "stream",
     "text": [
      "All pass\n"
     ]
    }
   ],
   "source": [
    "#test cell\n",
    "#Don't change data of this cell\n",
    "assert count('test.txt')==Counter({'Python': 2, 'Exercises': 1, 'Xcelerator': 1})\n",
    "print(\"All pass\")\n"
   ]
  },
  {
   "cell_type": "markdown",
   "metadata": {},
   "source": [
    "Excersice 6\n",
    "Write a Python program to assess if a file is closed or not."
   ]
  },
  {
   "cell_type": "code",
   "execution_count": 23,
   "metadata": {},
   "outputs": [
    {
     "name": "stdout",
     "output_type": "stream",
     "text": [
      "(False, True)\n"
     ]
    }
   ],
   "source": [
    "#code\n",
    "def check(file):\n",
    "    f = open(file,'r')\n",
    "    output=f.closed\n",
    "    f.close()\n",
    "    output1=f.closed\n",
    "    return output,output1\n",
    "print(check('abc.txt'))"
   ]
  },
  {
   "cell_type": "code",
   "execution_count": 24,
   "metadata": {},
   "outputs": [
    {
     "name": "stdout",
     "output_type": "stream",
     "text": [
      "All pass\n"
     ]
    }
   ],
   "source": [
    "#test cell\n",
    "#Don't change data of this cell\n",
    "assert check(\"abc.txt\")==(False, True)\n",
    "print(\"All pass\")"
   ]
  },
  {
   "cell_type": "markdown",
   "metadata": {},
   "source": [
    "Excersice 7\n",
    "Write a Python program to read a file line by line store it into a variable.(Content is text file:- Python is programing language\n",
    "                                                                                                                                                      hi)"
   ]
  },
  {
   "cell_type": "code",
   "execution_count": 45,
   "metadata": {},
   "outputs": [
    {
     "name": "stdout",
     "output_type": "stream",
     "text": [
      "['Python is programming language.\\n', 'hi \\n']\n"
     ]
    }
   ],
   "source": [
    "#code\n",
    "def file_read(fname):\n",
    "        with open (fname, \"r\") as myfile:\n",
    "                data=myfile.readlines()\n",
    "                output=data\n",
    "                return output\n",
    "print(file_read('test.txt'))"
   ]
  },
  {
   "cell_type": "code",
   "execution_count": 46,
   "metadata": {},
   "outputs": [
    {
     "name": "stdout",
     "output_type": "stream",
     "text": [
      "All pass\n"
     ]
    }
   ],
   "source": [
    "#test cell\n",
    "#Don't change data of this cell\n",
    "assert file_read(\"test.txt\")==['Python is programming language.\\n', 'hi \\n']\n",
    "print(\"All pass\")"
   ]
  },
  {
   "cell_type": "markdown",
   "metadata": {},
   "source": [
    "Excersice 8\n",
    "Write a Python program to read a random line from a file.(Content in text file:- File should have multiple lines with any words,statement,alphabate)"
   ]
  },
  {
   "cell_type": "code",
   "execution_count": 53,
   "metadata": {},
   "outputs": [
    {
     "name": "stdout",
     "output_type": "stream",
     "text": [
      "Python is coding languagae\n"
     ]
    }
   ],
   "source": [
    "#code\n",
    "import random\n",
    "def random_line(fname):\n",
    "    lines = open(fname).read().splitlines()\n",
    "    return random.choice(lines)\n",
    "print(random_line('abc.txt'))"
   ]
  },
  {
   "cell_type": "markdown",
   "metadata": {},
   "source": [
    "Excersice 9\n",
    "Write a Python program to read first n lines of a file.(Content in text file: Python is coding languagae\n",
    "Xcelerator\n",
    "coding\n",
    "language)"
   ]
  },
  {
   "cell_type": "code",
   "execution_count": 64,
   "metadata": {},
   "outputs": [
    {
     "name": "stdout",
     "output_type": "stream",
     "text": [
      "['Python is coding languagae\\n', 'Xcelerator\\n']\n"
     ]
    }
   ],
   "source": [
    "#code\n",
    "def file_read(fname, nlines):\n",
    "        from itertools import islice\n",
    "        output=[]\n",
    "        with open(fname) as f:\n",
    "                for line in islice(f, nlines):\n",
    "                        output.append(line)\n",
    "        return output\n",
    "fname='abc.txt'\n",
    "nlines=2\n",
    "print(file_read(fname,nlines))"
   ]
  },
  {
   "cell_type": "code",
   "execution_count": 65,
   "metadata": {},
   "outputs": [
    {
     "name": "stdout",
     "output_type": "stream",
     "text": [
      "All pass\n"
     ]
    }
   ],
   "source": [
    "#test cell\n",
    "#Don't change data of this cell\n",
    "assert file_read('abc.txt',2)==['Python is coding languagae\\n', 'Xcelerator\\n']\n",
    "print(\"All pass\")"
   ]
  },
  {
   "cell_type": "markdown",
   "metadata": {},
   "source": [
    "Excersice 10\n",
    "Write a Python program to accept a file name from the user.\n",
    " Display the first N-lines of the file (.txt)\n",
    " Find the frequency of occurence of the each character/word accepted from the user in the file. "
   ]
  },
  {
   "cell_type": "code",
   "execution_count": 72,
   "metadata": {},
   "outputs": [
    {
     "name": "stdout",
     "output_type": "stream",
     "text": [
      "('Content in file is: Python is coding languagae Xcelerator coding language', 'i present in given content is 3')\n"
     ]
    }
   ],
   "source": [
    "#code\n",
    "def content(file,k):\n",
    "    file1=open(file,\"r\")\n",
    "    fcontent=file1.read()\n",
    "    output=\"Content in file is: \"+fcontent\n",
    "    search=fcontent.count(k)\n",
    "    output1=k+\" present in given content is \"+str(search)\n",
    "    return output,output1\n",
    "print(content(\"abc.txt\",\"i\"))\n"
   ]
  },
  {
   "cell_type": "code",
   "execution_count": 73,
   "metadata": {},
   "outputs": [
    {
     "name": "stdout",
     "output_type": "stream",
     "text": [
      "All pass\n"
     ]
    }
   ],
   "source": [
    "#test cell\n",
    "#Don't change data of this cell\n",
    "assert content('abc.txt','i')==('Content in file is: Python is coding languagae Xcelerator coding language', 'i present in given content is 3')\n",
    "print(\"All pass\")"
   ]
  },
  {
   "cell_type": "code",
   "execution_count": null,
   "metadata": {},
   "outputs": [],
   "source": []
  }
 ],
 "metadata": {
  "kernelspec": {
   "display_name": "Python 3",
   "language": "python",
   "name": "python3"
  },
  "language_info": {
   "codemirror_mode": {
    "name": "ipython",
    "version": 3
   },
   "file_extension": ".py",
   "mimetype": "text/x-python",
   "name": "python",
   "nbconvert_exporter": "python",
   "pygments_lexer": "ipython3",
   "version": "3.8.1"
  }
 },
 "nbformat": 4,
 "nbformat_minor": 4
}
