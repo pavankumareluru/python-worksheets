{
 "cells": [
  {
   "cell_type": "markdown",
   "metadata": {},
   "source": [
    "Excersice 1\n",
    "Write a function that take full name as input and display output by satisfying all 3 condition below:\n",
    "•\tIf user Input first name ,middle name and last name then display abbreviations of first and middle name and display last name as it is.\n",
    "•\tIf user Input first name and middle name then display only middle name \n",
    "•\tIf user input only first name then display as it is.\n"
   ]
  },
  {
   "cell_type": "code",
   "execution_count": 3,
   "metadata": {},
   "outputs": [
    {
     "name": "stdout",
     "output_type": "stream",
     "text": [
      "M.s.dhoni\n",
      "kohli\n",
      "Rohit\n"
     ]
    }
   ],
   "source": [
    "#code\n",
    "def F_name(name):\n",
    "    Name=name.split()\n",
    "    if len(Name)==2:\n",
    "        name=Name[1]\n",
    "    elif len(Name)==3:\n",
    "        name=Name[0][0]+'.'+Name[1][0]+'.'+Name[2]\n",
    "    else:\n",
    "        name=Name[0]\n",
    "    return name\n",
    "name=\"Mahendra singh dhoni\"\n",
    "print(F_name(name))\n",
    "name=\"Virat kohli\"\n",
    "print(F_name(name))\n",
    "name=\"Rohit\"\n",
    "print(F_name(name))"
   ]
  },
  {
   "cell_type": "code",
   "execution_count": 4,
   "metadata": {},
   "outputs": [
    {
     "name": "stdout",
     "output_type": "stream",
     "text": [
      "All pass\n"
     ]
    }
   ],
   "source": [
    "#test cell\n",
    "#Don't change data of this cell\n",
    "assert F_name(\"Mahendra singh dhoni\")==(\"M.s.dhoni\")\n",
    "assert F_name(\"Virat kohli\")==(\"kohli\")\n",
    "assert F_name(\"Rohit\")==(\"Rohit\")\n",
    "print(\"All pass\")"
   ]
  },
  {
   "cell_type": "markdown",
   "metadata": {},
   "source": [
    "Excersice 2\n",
    "Write a function to take string as an Input and display only those characters which are present at even index."
   ]
  },
  {
   "cell_type": "code",
   "execution_count": 5,
   "metadata": {},
   "outputs": [
    {
     "name": "stdout",
     "output_type": "stream",
     "text": [
      "Xeeao\n"
     ]
    }
   ],
   "source": [
    "#code\n",
    "def string(str1):\n",
    "    res=''\n",
    "    for i in range(0,len(str1)):\n",
    "        if(i%2==0):\n",
    "            res+=str1[i]\n",
    "    return res\n",
    "print(string(\"Xcelerator\"))\n"
   ]
  },
  {
   "cell_type": "code",
   "execution_count": 6,
   "metadata": {},
   "outputs": [
    {
     "name": "stdout",
     "output_type": "stream",
     "text": [
      "All pass\n"
     ]
    }
   ],
   "source": [
    "#test cell\n",
    "#Don't change data of this cell\n",
    "assert string(\"Xcelerator\")==(\"Xeeao\")\n",
    "print(\"All pass\")"
   ]
  },
  {
   "cell_type": "markdown",
   "metadata": {},
   "source": [
    "Excersice 3\n",
    "Write a function to get a string from a given string where all occurrence of 0 index characters have been changed to '@’ expect 1st character."
   ]
  },
  {
   "cell_type": "code",
   "execution_count": 7,
   "metadata": {},
   "outputs": [
    {
     "name": "stdout",
     "output_type": "stream",
     "text": [
      "resta@t\n",
      "star@t@@\n",
      "st @ tr\n"
     ]
    }
   ],
   "source": [
    "#code\n",
    "def change(cha):\n",
    "    char=cha[0]\n",
    "    str1=cha.replace(char,\"@\")\n",
    "    str2=char+str1[1:]\n",
    "    data=str2\n",
    "    return data\n",
    "    \n",
    "cha=\"restart\"\n",
    "print(change(cha))\n",
    "cha=\"starstss\"\n",
    "print(change(cha))\n",
    "cha=\"st s tr\"\n",
    "print(change(cha))\n"
   ]
  },
  {
   "cell_type": "code",
   "execution_count": 8,
   "metadata": {},
   "outputs": [
    {
     "name": "stdout",
     "output_type": "stream",
     "text": [
      "All pass\n"
     ]
    }
   ],
   "source": [
    "#test cell\n",
    "#Don't change data of this cell\n",
    "assert change(\"restart\")==(\"resta@t\")\n",
    "assert change(\"starstss\")==(\"star@t@@\")\n",
    "assert change(\"st s tr\")==(\"st @ tr\")\n",
    "print(\"All pass\")"
   ]
  },
  {
   "cell_type": "markdown",
   "metadata": {},
   "source": [
    "Excersice 4\n",
    "Write a function to change a given string to a new string where the first and last char have been exchanged."
   ]
  },
  {
   "cell_type": "code",
   "execution_count": 9,
   "metadata": {},
   "outputs": [
    {
     "name": "stdout",
     "output_type": "stream",
     "text": [
      "dbca\n",
      "52341\n"
     ]
    }
   ],
   "source": [
    "#code\n",
    "def exchange(data):\n",
    "    string=data[-1:]+data[1:-1]+data[:1]\n",
    "    d=string\n",
    "    return (d)\n",
    "data=\"abcd\"\n",
    "print(exchange(data))\n",
    "data=\"12345\"\n",
    "print(exchange(data))"
   ]
  },
  {
   "cell_type": "code",
   "execution_count": 10,
   "metadata": {},
   "outputs": [
    {
     "name": "stdout",
     "output_type": "stream",
     "text": [
      "All pass\n"
     ]
    }
   ],
   "source": [
    "#test cell\n",
    "#Don't change data of this cell\n",
    "assert exchange(\"abcd\")==(\"dbca\")\n",
    "assert exchange(\"12345\")==(\"52341\")\n",
    "print(\"All pass\")"
   ]
  },
  {
   "cell_type": "markdown",
   "metadata": {},
   "source": [
    "Excersice 5\n",
    "Write a function to take input  and display the input back in uppercase to lowercase and vise-versa."
   ]
  },
  {
   "cell_type": "code",
   "execution_count": 11,
   "metadata": {},
   "outputs": [
    {
     "name": "stdout",
     "output_type": "stream",
     "text": [
      "after swapcase: hEllO everYONE\n"
     ]
    }
   ],
   "source": [
    "#code\n",
    "def case(string):\n",
    "    output=string.swapcase()\n",
    "    return output\n",
    "out=case(\"HeLLo EVERyone\")\n",
    "print(\"after swapcase:\",out)"
   ]
  },
  {
   "cell_type": "code",
   "execution_count": 12,
   "metadata": {},
   "outputs": [
    {
     "name": "stdout",
     "output_type": "stream",
     "text": [
      "All pass\n"
     ]
    }
   ],
   "source": [
    "#test cell\n",
    "#Don't change data of this cell\n",
    "assert case(\"HeLLo EVERyone\")==(\"hEllO everYONE\")\n",
    "print(\"All pass\")"
   ]
  },
  {
   "cell_type": "markdown",
   "metadata": {},
   "source": [
    "Excersice 6\n",
    "Write a function as an input a string and find length of string without using built-in function and verifiy your output by using built-in function."
   ]
  },
  {
   "cell_type": "code",
   "execution_count": 13,
   "metadata": {},
   "outputs": [
    {
     "name": "stdout",
     "output_type": "stream",
     "text": [
      "length of built-in and without built-in is same,i.e 6\n"
     ]
    }
   ],
   "source": [
    "#code\n",
    "def length(data):\n",
    "    count=0\n",
    "    for i in data:\n",
    "        count=count+1\n",
    "    leng=len(data)\n",
    "    if count==leng:\n",
    "        res=\"length of built-in and without built-in is same,i.e \"+str(count)\n",
    "    return res\n",
    "print(length(\"Manish\"))"
   ]
  },
  {
   "cell_type": "code",
   "execution_count": 14,
   "metadata": {},
   "outputs": [
    {
     "name": "stdout",
     "output_type": "stream",
     "text": [
      "All pass\n"
     ]
    }
   ],
   "source": [
    "#test cell\n",
    "#Don't change data of this cell\n",
    "assert length(\"Manish\")=='length of built-in and without built-in is same,i.e 6'\n",
    "print(\"All pass\")"
   ]
  },
  {
   "cell_type": "markdown",
   "metadata": {},
   "source": [
    "Excersice 7\n",
    "Write a function to take Input from user with whitespace and satisfy condition below\n",
    "•\tTrim whitespace only from right\n",
    "•\tTrim whitespace only from left\n",
    "•\tTrim whitespace from both right and left"
   ]
  },
  {
   "cell_type": "code",
   "execution_count": 15,
   "metadata": {},
   "outputs": [
    {
     "name": "stdout",
     "output_type": "stream",
     "text": [
      "('left trim=Xc\\tele\\t\\t\\trator \\t \\t ', 'right trim=\\t \\t \\n Xc\\tele\\t\\t\\trator', 'both side trim=Xc\\tele\\t\\t\\trator', 'extra space in between=Xcelerator')\n"
     ]
    }
   ],
   "source": [
    "#code\n",
    "def trim(string):\n",
    "    string1=string.lstrip()\n",
    "    string2=string.rstrip()\n",
    "    string3=string.strip()\n",
    "    string4=\"\".join(string.split())\n",
    "    res1=\"left trim=\"+string1\n",
    "    res2=\"right trim=\"+string2\n",
    "    res3=\"both side trim=\"+string3\n",
    "    res4=\"extra space in between=\"+string4\n",
    "    return res1,res2,res3,res4\n",
    "print(trim(\"\\t \\t \\n Xc\\tele\\t\\t\\trator \\t \\t \"))\n"
   ]
  },
  {
   "cell_type": "code",
   "execution_count": 16,
   "metadata": {},
   "outputs": [
    {
     "name": "stdout",
     "output_type": "stream",
     "text": [
      "All pass\n"
     ]
    }
   ],
   "source": [
    "#test cell\n",
    "#Don't change data of this cell\n",
    "assert trim(\"\\t \\t \\n Xc\\tele\\t\\t\\trator \\t \\t \")==('left trim=Xc\\tele\\t\\t\\trator \\t \\t ', 'right trim=\\t \\t \\n Xc\\tele\\t\\t\\trator', 'both side trim=Xc\\tele\\t\\t\\trator', 'extra space in between=Xcelerator')\n",
    "print(\"All pass\")"
   ]
  },
  {
   "cell_type": "markdown",
   "metadata": {},
   "source": [
    "Excersice 8\n",
    "Write a function to take input and check weather the input string is palindrome or not without using any built-in function."
   ]
  },
  {
   "cell_type": "code",
   "execution_count": 17,
   "metadata": {},
   "outputs": [
    {
     "name": "stdout",
     "output_type": "stream",
     "text": [
      "False\n",
      "True\n"
     ]
    }
   ],
   "source": [
    "#code\n",
    "def palindrome(string):\n",
    "    data=string[::-1]\n",
    "    if string==data:\n",
    "        ans=True\n",
    "    else:\n",
    "        ans=False\n",
    "    return ans\n",
    "print(palindrome(\"hi\"))\n",
    "print(palindrome(\"mom\"))"
   ]
  },
  {
   "cell_type": "code",
   "execution_count": 18,
   "metadata": {},
   "outputs": [
    {
     "name": "stdout",
     "output_type": "stream",
     "text": [
      "All pass\n"
     ]
    }
   ],
   "source": [
    "#test cell\n",
    "#Don't change data of this cell\n",
    "assert palindrome(\"mom\")==True\n",
    "assert palindrome(\"hi\")==False\n",
    "print(\"All pass\")"
   ]
  },
  {
   "cell_type": "markdown",
   "metadata": {},
   "source": [
    "Excersice 9\n",
    "Write a funtion to check the number of words ends with given letter in a string."
   ]
  },
  {
   "cell_type": "code",
   "execution_count": 19,
   "metadata": {},
   "outputs": [
    {
     "name": "stdout",
     "output_type": "stream",
     "text": [
      "2\n"
     ]
    }
   ],
   "source": [
    "#code\n",
    "def words(string,end):\n",
    "    count=0\n",
    "    st=string.split()\n",
    "    for i in st:\n",
    "        if i.endswith(end):\n",
    "            count+=1\n",
    "    return count\n",
    "string=\"We are coder.\"\n",
    "end=\"e\"\n",
    "print(words(string,end))\n"
   ]
  },
  {
   "cell_type": "code",
   "execution_count": 25,
   "metadata": {},
   "outputs": [
    {
     "name": "stdout",
     "output_type": "stream",
     "text": [
      "All pass\n"
     ]
    }
   ],
   "source": [
    "#test cell\n",
    "#Don't change data of this cell\n",
    "assert words(\"We are coder\",\"e\")==2\n",
    "print(\"All pass\")"
   ]
  },
  {
   "cell_type": "markdown",
   "metadata": {},
   "source": [
    "Excersice 10\n",
    "Write a function to ask user to Input any characters and return the ASCII value of it."
   ]
  },
  {
   "cell_type": "code",
   "execution_count": 23,
   "metadata": {},
   "outputs": [
    {
     "name": "stdout",
     "output_type": "stream",
     "text": [
      "65\n",
      "97\n",
      "64\n",
      "49\n"
     ]
    }
   ],
   "source": [
    "#code\n",
    "def character(char):\n",
    "    ans=ord(char)\n",
    "    return ans\n",
    "char=\"A\"\n",
    "print(character(char))\n",
    "char=\"a\"\n",
    "print(character(char))\n",
    "char=\"@\"\n",
    "print(character(char))\n",
    "char=\"1\"\n",
    "print(character(char))\n",
    "            "
   ]
  },
  {
   "cell_type": "code",
   "execution_count": 24,
   "metadata": {},
   "outputs": [
    {
     "name": "stdout",
     "output_type": "stream",
     "text": [
      "All pass\n"
     ]
    }
   ],
   "source": [
    "#test cell\n",
    "#Don't change data of this cell\n",
    "assert character(\"A\")==65\n",
    "assert character(\"a\")==97\n",
    "assert character(\"@\")==64\n",
    "assert character(\"1\")==49\n",
    "print(\"All pass\")"
   ]
  },
  {
   "cell_type": "code",
   "execution_count": null,
   "metadata": {},
   "outputs": [],
   "source": []
  }
 ],
 "metadata": {
  "kernelspec": {
   "display_name": "Python 3",
   "language": "python",
   "name": "python3"
  },
  "language_info": {
   "codemirror_mode": {
    "name": "ipython",
    "version": 3
   },
   "file_extension": ".py",
   "mimetype": "text/x-python",
   "name": "python",
   "nbconvert_exporter": "python",
   "pygments_lexer": "ipython3",
   "version": "3.8.1"
  }
 },
 "nbformat": 4,
 "nbformat_minor": 4
}
