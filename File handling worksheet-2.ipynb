{
 "cells": [
  {
   "cell_type": "markdown",
   "metadata": {},
   "source": [
    "Excersice 1\n",
    "Write a Python program to create a file where all letters of English alphabet are listed by specified number of letters on each line and display it."
   ]
  },
  {
   "cell_type": "code",
   "execution_count": 4,
   "metadata": {},
   "outputs": [
    {
     "name": "stdout",
     "output_type": "stream",
     "text": [
      "['ABC\\nDEF\\nGHI\\nJKL\\nMNO\\nPQR\\nSTU\\nVWX\\nYZ\\n']\n"
     ]
    }
   ],
   "source": [
    "#code\n",
    "import string\n",
    "def letters_file_line(n):\n",
    "    word=[]\n",
    "    with open(\"words1.txt\", \"w\") as f:\n",
    "        alphabet = string.ascii_uppercase\n",
    "        letters = [alphabet[i:i + n] + \"\\n\" for i in range(0, len(alphabet), n)]\n",
    "        f.writelines(letters)\n",
    "    file=open(\"words1.txt\",\"r\")\n",
    "    con=file.read()\n",
    "    word.append(con)\n",
    "    return word\n",
    "print(letters_file_line(3))\n"
   ]
  },
  {
   "cell_type": "code",
   "execution_count": 5,
   "metadata": {},
   "outputs": [
    {
     "name": "stdout",
     "output_type": "stream",
     "text": [
      "All pass\n"
     ]
    }
   ],
   "source": [
    "#test cell\n",
    "#Don't change data of this cell\n",
    "assert letters_file_line(3)==['ABC\\nDEF\\nGHI\\nJKL\\nMNO\\nPQR\\nSTU\\nVWX\\nYZ\\n']\n",
    "print(\"All pass\")"
   ]
  },
  {
   "cell_type": "markdown",
   "metadata": {},
   "source": [
    "Excersice 2\n",
    "Write a Python program that takes a text file as input and returns the number of words of a given text file.(Content in text file:- Python is coding languagae Xcelerator coding language)"
   ]
  },
  {
   "cell_type": "code",
   "execution_count": 6,
   "metadata": {},
   "outputs": [
    {
     "name": "stdout",
     "output_type": "stream",
     "text": [
      "7\n"
     ]
    }
   ],
   "source": [
    "#code\n",
    "def count(filepath):\n",
    "    with open(filepath) as f:\n",
    "        data = f.read()\n",
    "        data.replace(\",\", \" \")\n",
    "    return len(data.split(\" \"))\n",
    "print(count(\"abc.txt\"))"
   ]
  },
  {
   "cell_type": "code",
   "execution_count": 7,
   "metadata": {},
   "outputs": [
    {
     "name": "stdout",
     "output_type": "stream",
     "text": [
      "All pass\n"
     ]
    }
   ],
   "source": [
    "#test cell\n",
    "#Don't change data of this cell\n",
    "assert count('abc.txt')==7\n",
    "print(\"All pass\")"
   ]
  },
  {
   "cell_type": "code",
   "execution_count": null,
   "metadata": {},
   "outputs": [],
   "source": [
    "Excersice 3\n",
    "Write a Python program to get the file size of a plain file.(Content in text file:Python(should not have any extra space))"
   ]
  },
  {
   "cell_type": "code",
   "execution_count": 17,
   "metadata": {},
   "outputs": [
    {
     "name": "stdout",
     "output_type": "stream",
     "text": [
      "6\n"
     ]
    }
   ],
   "source": [
    "#code\n",
    "def size(fname):\n",
    "        import os\n",
    "        statinfo = os.stat(fname)\n",
    "        return statinfo.st_size\n",
    "print(size(\"abc.txt \"))"
   ]
  },
  {
   "cell_type": "code",
   "execution_count": 16,
   "metadata": {},
   "outputs": [
    {
     "name": "stdout",
     "output_type": "stream",
     "text": [
      "All pass\n"
     ]
    }
   ],
   "source": [
    "#test cell\n",
    "#Don't change data of this cell\n",
    "assert size(\"abc.txt\")==6\n",
    "print(\"All pass\")"
   ]
  },
  {
   "cell_type": "markdown",
   "metadata": {},
   "source": [
    "Excersice 4\n",
    "Write a Python program to combine each line from first file with the corresponding line in second file.(Content in text file: 1st file(hi,)  and 2nd file(Python is programming language.)"
   ]
  },
  {
   "cell_type": "code",
   "execution_count": 1,
   "metadata": {},
   "outputs": [
    {
     "name": "stdout",
     "output_type": "stream",
     "text": [
      "hi,Python is programming language.\n"
     ]
    }
   ],
   "source": [
    "#code\n",
    "def merge(file,file1):\n",
    "    with open(file) as fh1, open(file1) as fh2:\n",
    "        for line1, line2 in zip(fh1, fh2):\n",
    "            output=line1+line2\n",
    "    return output\n",
    "print(merge(\"abc.txt\",\"test.txt\"))"
   ]
  },
  {
   "cell_type": "code",
   "execution_count": 2,
   "metadata": {},
   "outputs": [
    {
     "name": "stdout",
     "output_type": "stream",
     "text": [
      "All pass\n"
     ]
    }
   ],
   "source": [
    "#test cell\n",
    "#Don't change data of this cell\n",
    "assert merge(\"abc.txt\",\"test.txt\")==(\"hi,Python is programming language.\")\n",
    "print(\"All pass\")"
   ]
  },
  {
   "cell_type": "markdown",
   "metadata": {},
   "source": [
    "Excerice 5\n",
    "Write a Python program to count of number of digits in text file.(Content is text file: Pyth0n 4 every1)"
   ]
  },
  {
   "cell_type": "code",
   "execution_count": 29,
   "metadata": {},
   "outputs": [
    {
     "name": "stdout",
     "output_type": "stream",
     "text": [
      "3\n"
     ]
    }
   ],
   "source": [
    "#code\n",
    "def conunt(file):\n",
    "    count=0\n",
    "    file1=open(file,\"r\")\n",
    "    fcon=file1.read()\n",
    "    for i in fcon:\n",
    "        if i.isdigit()==True:\n",
    "            count+=1\n",
    "    return count \n",
    "print(conunt(\"abc.txt\"))       "
   ]
  },
  {
   "cell_type": "code",
   "execution_count": 30,
   "metadata": {},
   "outputs": [
    {
     "name": "stdout",
     "output_type": "stream",
     "text": [
      "All pass\n"
     ]
    }
   ],
   "source": [
    "#test cell\n",
    "#Don't change data of this cell\n",
    "assert conunt(\"abc.txt\")==3\n",
    "print(\"All pass\")"
   ]
  },
  {
   "cell_type": "markdown",
   "metadata": {},
   "source": [
    "Excerice 6\n",
    " Write a program to find the number of vowels, consonents, digits and white space characters in a file(Content is text file: 4u @gmail.com hi)"
   ]
  },
  {
   "cell_type": "code",
   "execution_count": 58,
   "metadata": {},
   "outputs": [
    {
     "name": "stdout",
     "output_type": "stream",
     "text": [
      "('Vowels: 5', 'Consonant: 6', 'Special Character: 4', 'Digit: 1')\n"
     ]
    }
   ],
   "source": [
    "#code\n",
    "def count(str1):\n",
    "    vowels = 0\n",
    "    consonant = 0\n",
    "    specialChar = 0\n",
    "    digit = 0\n",
    "    file=open(str1,\"r\")\n",
    "    file1=file.read()\n",
    "    for i in range(0, len(file1)):  \n",
    "        ch = file1[i]  \n",
    "        if ( (ch >= 'a' and ch <= 'z') or  (ch >= 'A' and ch <= 'Z') ):  \n",
    "            ch = ch.lower() \n",
    "            if (ch == 'a' or ch == 'e' or ch == 'i'  or ch == 'o' or ch == 'u'): \n",
    "                vowels += 1\n",
    "            else: \n",
    "                consonant += 1\n",
    "        elif (ch >= '0' and ch <= '9'): \n",
    "            digit += 1\n",
    "        else: \n",
    "            specialChar += 1\n",
    "    return 'Vowels: '+str(vowels),'Consonant: '+str(consonant),'Special Character: '+str(specialChar),'Digit: '+str(digit)  \n",
    "print(count(\"abc.txt\"))  "
   ]
  },
  {
   "cell_type": "code",
   "execution_count": 35,
   "metadata": {},
   "outputs": [
    {
     "name": "stdout",
     "output_type": "stream",
     "text": [
      "All pass\n"
     ]
    }
   ],
   "source": [
    "#test cell\n",
    "#Don't change data of this cell\n",
    "assert count(\"abc.txt\")==('Vowels: 5', 'Consonant: 6', 'Special Character: 4', 'Digit: 1')\n",
    "print(\"All pass\")"
   ]
  },
  {
   "cell_type": "markdown",
   "metadata": {},
   "source": [
    "Excersice 7\n",
    "Write Python program to add all digits in file and store the final total value in text file.(Content in text file:4u @gmail.com hi1)"
   ]
  },
  {
   "cell_type": "code",
   "execution_count": 46,
   "metadata": {},
   "outputs": [
    {
     "name": "stdout",
     "output_type": "stream",
     "text": [
      "('4u @gmail.com hi1', '\\n total:5')\n"
     ]
    }
   ],
   "source": [
    "#code\n",
    "def con(file):\n",
    "    count=0\n",
    "    file1=open(file,\"r\")\n",
    "    fcon=file1.read()\n",
    "    output1=fcon\n",
    "    for i in fcon:\n",
    "        if i.isdigit()==True:\n",
    "            count=count+int(i)\n",
    "    f = open(\"abc.txt\", \"w\")\n",
    "    f.write(\"\\n total:%s\"%count)\n",
    "    f.close()\n",
    "    f = open(\"abc.txt\", \"r\")\n",
    "    output=f.read()\n",
    "    return output1,output\n",
    "print(con(\"abc.txt\"))"
   ]
  },
  {
   "cell_type": "code",
   "execution_count": null,
   "metadata": {},
   "outputs": [],
   "source": [
    "#test cell\n",
    "#Don't change data of this cell\n",
    "assert con(\"abc.txt\")==('4u @gmail.com hi1', '\\n total:5')\n",
    "print(\"All pass\")"
   ]
  },
  {
   "cell_type": "markdown",
   "metadata": {},
   "source": [
    "Excersice 8\n",
    "Create a file and add the text \"python is fun\" and close it. Now append users in the file. So the contract of the file should be\n",
    "\"Python is funRam\""
   ]
  },
  {
   "cell_type": "code",
   "execution_count": 50,
   "metadata": {},
   "outputs": [
    {
     "name": "stdout",
     "output_type": "stream",
     "text": [
      "File created\n"
     ]
    }
   ],
   "source": [
    "#code\n",
    "def content(stri,text,name):\n",
    "    f=open(stri,\"w+\")\n",
    "    f=open(stri,\"w\")\n",
    "    f.write(text)\n",
    "    f.close()\n",
    "    f=open(stri,\"a\")\n",
    "    f.write(name)\n",
    "    f.close()\n",
    "    output=\"File created\"\n",
    "    return output\n",
    "print(content(\"a.txt\",\"python\",\"username\"))\n"
   ]
  },
  {
   "cell_type": "code",
   "execution_count": 51,
   "metadata": {},
   "outputs": [
    {
     "name": "stdout",
     "output_type": "stream",
     "text": [
      "All pass\n"
     ]
    }
   ],
   "source": [
    "#test cell\n",
    "#Don't change data of this cell\n",
    "assert content(\"a.txt\",\"python\",\"username\")==(\"File created\")\n",
    "print(\"All pass\")\n",
    "#check file to verify with the same file name given as input"
   ]
  },
  {
   "cell_type": "markdown",
   "metadata": {},
   "source": [
    "Excersice 9\n",
    "Write Python program to delete the numerical data of file(Content is text file: Any thing with numerical value) "
   ]
  },
  {
   "cell_type": "code",
   "execution_count": 53,
   "metadata": {},
   "outputs": [
    {
     "name": "stdout",
     "output_type": "stream",
     "text": [
      "Deleted all numerical data from file\n"
     ]
    }
   ],
   "source": [
    "#code\n",
    "def delete(fname):\n",
    "    with open(fname, \"r\") as f: \n",
    "        data = f.read() \n",
    "    with open(fname, \"w\") as f: \n",
    "        for line in data :\n",
    "            if line.isdigit()==True:\n",
    "                    continue\n",
    "            else:\n",
    "                f.write(line)\n",
    "                output=\"Deleted all numerical data from file\"\n",
    "                return output\n",
    "print(delete(\"abc.txt\"))\n",
    "#check your file to verify output   "
   ]
  },
  {
   "cell_type": "code",
   "execution_count": 54,
   "metadata": {},
   "outputs": [
    {
     "name": "stdout",
     "output_type": "stream",
     "text": [
      "All pass\n"
     ]
    }
   ],
   "source": [
    "#test cell\n",
    "#Don't change data of this cell\n",
    "assert delete(\"abc.txt\")==(\"Deleted all numerical data from file\")\n",
    "print(\"All pass\")\n",
    "#check your file to verify output."
   ]
  },
  {
   "cell_type": "markdown",
   "metadata": {},
   "source": [
    "Excersice 10\n",
    "Write Python program to check if the file exist with same file name or not if not then  create a file."
   ]
  },
  {
   "cell_type": "code",
   "execution_count": 59,
   "metadata": {},
   "outputs": [
    {
     "name": "stdout",
     "output_type": "stream",
     "text": [
      "file named with abc.txt already exist,try another name\n"
     ]
    }
   ],
   "source": [
    "#code\n",
    "import os.path\n",
    "def check(file):\n",
    "    if os.path.exists(file)==True:\n",
    "        output=\"file named with \"+file+\" already exist,try another name\"\n",
    "    else:\n",
    "        f=open(file,\"w+\")\n",
    "        f.close()\n",
    "        output=\"file created\"\n",
    "    return output\n",
    "file=\"abc.txt\"\n",
    "print(check(file))\n",
    "#check your system to verify output."
   ]
  },
  {
   "cell_type": "code",
   "execution_count": null,
   "metadata": {},
   "outputs": [],
   "source": []
  }
 ],
 "metadata": {
  "kernelspec": {
   "display_name": "Python 3",
   "language": "python",
   "name": "python3"
  },
  "language_info": {
   "codemirror_mode": {
    "name": "ipython",
    "version": 3
   },
   "file_extension": ".py",
   "mimetype": "text/x-python",
   "name": "python",
   "nbconvert_exporter": "python",
   "pygments_lexer": "ipython3",
   "version": "3.8.1"
  }
 },
 "nbformat": 4,
 "nbformat_minor": 4
}
